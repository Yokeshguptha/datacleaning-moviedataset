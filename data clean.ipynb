{
 "cells": [
  {
   "cell_type": "code",
   "execution_count": 82,
   "id": "141c1834",
   "metadata": {},
   "outputs": [],
   "source": [
    "import pandas as pd"
   ]
  },
  {
   "cell_type": "code",
   "execution_count": 83,
   "id": "8b485f0e",
   "metadata": {},
   "outputs": [
    {
     "name": "stderr",
     "output_type": "stream",
     "text": [
      "C:\\Users\\NP Family\\AppData\\Local\\Temp\\ipykernel_1428\\4240643432.py:1: DtypeWarning: Columns (10) have mixed types. Specify dtype option on import or set low_memory=False.\n",
      "  df= pd.read_csv('movies_metadata.csv')\n"
     ]
    }
   ],
   "source": [
    "df= pd.read_csv('movies_metadata.csv')"
   ]
  },
  {
   "cell_type": "code",
   "execution_count": 84,
   "id": "006dedef",
   "metadata": {},
   "outputs": [
    {
     "data": {
      "text/plain": [
       "(45466, 24)"
      ]
     },
     "execution_count": 84,
     "metadata": {},
     "output_type": "execute_result"
    }
   ],
   "source": [
    "df.shape"
   ]
  },
  {
   "cell_type": "code",
   "execution_count": 85,
   "id": "bca29de6",
   "metadata": {},
   "outputs": [
    {
     "data": {
      "text/html": [
       "<div>\n",
       "<style scoped>\n",
       "    .dataframe tbody tr th:only-of-type {\n",
       "        vertical-align: middle;\n",
       "    }\n",
       "\n",
       "    .dataframe tbody tr th {\n",
       "        vertical-align: top;\n",
       "    }\n",
       "\n",
       "    .dataframe thead th {\n",
       "        text-align: right;\n",
       "    }\n",
       "</style>\n",
       "<table border=\"1\" class=\"dataframe\">\n",
       "  <thead>\n",
       "    <tr style=\"text-align: right;\">\n",
       "      <th></th>\n",
       "      <th>adult</th>\n",
       "      <th>belongs_to_collection</th>\n",
       "      <th>budget</th>\n",
       "      <th>genres</th>\n",
       "      <th>homepage</th>\n",
       "      <th>id</th>\n",
       "      <th>imdb_id</th>\n",
       "      <th>original_language</th>\n",
       "      <th>original_title</th>\n",
       "      <th>overview</th>\n",
       "      <th>...</th>\n",
       "      <th>release_date</th>\n",
       "      <th>revenue</th>\n",
       "      <th>runtime</th>\n",
       "      <th>spoken_languages</th>\n",
       "      <th>status</th>\n",
       "      <th>tagline</th>\n",
       "      <th>title</th>\n",
       "      <th>video</th>\n",
       "      <th>vote_average</th>\n",
       "      <th>vote_count</th>\n",
       "    </tr>\n",
       "  </thead>\n",
       "  <tbody>\n",
       "    <tr>\n",
       "      <th>0</th>\n",
       "      <td>False</td>\n",
       "      <td>{'id': 10194, 'name': 'Toy Story Collection', ...</td>\n",
       "      <td>30000000</td>\n",
       "      <td>[{'id': 16, 'name': 'Animation'}, {'id': 35, '...</td>\n",
       "      <td>http://toystory.disney.com/toy-story</td>\n",
       "      <td>862</td>\n",
       "      <td>tt0114709</td>\n",
       "      <td>en</td>\n",
       "      <td>Toy Story</td>\n",
       "      <td>Led by Woody, Andy's toys live happily in his ...</td>\n",
       "      <td>...</td>\n",
       "      <td>1995-10-30</td>\n",
       "      <td>373554033.0</td>\n",
       "      <td>81.0</td>\n",
       "      <td>[{'iso_639_1': 'en', 'name': 'English'}]</td>\n",
       "      <td>Released</td>\n",
       "      <td>NaN</td>\n",
       "      <td>Toy Story</td>\n",
       "      <td>False</td>\n",
       "      <td>7.7</td>\n",
       "      <td>5415.0</td>\n",
       "    </tr>\n",
       "    <tr>\n",
       "      <th>1</th>\n",
       "      <td>False</td>\n",
       "      <td>NaN</td>\n",
       "      <td>65000000</td>\n",
       "      <td>[{'id': 12, 'name': 'Adventure'}, {'id': 14, '...</td>\n",
       "      <td>NaN</td>\n",
       "      <td>8844</td>\n",
       "      <td>tt0113497</td>\n",
       "      <td>en</td>\n",
       "      <td>Jumanji</td>\n",
       "      <td>When siblings Judy and Peter discover an encha...</td>\n",
       "      <td>...</td>\n",
       "      <td>1995-12-15</td>\n",
       "      <td>262797249.0</td>\n",
       "      <td>104.0</td>\n",
       "      <td>[{'iso_639_1': 'en', 'name': 'English'}, {'iso...</td>\n",
       "      <td>Released</td>\n",
       "      <td>Roll the dice and unleash the excitement!</td>\n",
       "      <td>Jumanji</td>\n",
       "      <td>False</td>\n",
       "      <td>6.9</td>\n",
       "      <td>2413.0</td>\n",
       "    </tr>\n",
       "    <tr>\n",
       "      <th>2</th>\n",
       "      <td>False</td>\n",
       "      <td>{'id': 119050, 'name': 'Grumpy Old Men Collect...</td>\n",
       "      <td>0</td>\n",
       "      <td>[{'id': 10749, 'name': 'Romance'}, {'id': 35, ...</td>\n",
       "      <td>NaN</td>\n",
       "      <td>15602</td>\n",
       "      <td>tt0113228</td>\n",
       "      <td>en</td>\n",
       "      <td>Grumpier Old Men</td>\n",
       "      <td>A family wedding reignites the ancient feud be...</td>\n",
       "      <td>...</td>\n",
       "      <td>1995-12-22</td>\n",
       "      <td>0.0</td>\n",
       "      <td>101.0</td>\n",
       "      <td>[{'iso_639_1': 'en', 'name': 'English'}]</td>\n",
       "      <td>Released</td>\n",
       "      <td>Still Yelling. Still Fighting. Still Ready for...</td>\n",
       "      <td>Grumpier Old Men</td>\n",
       "      <td>False</td>\n",
       "      <td>6.5</td>\n",
       "      <td>92.0</td>\n",
       "    </tr>\n",
       "    <tr>\n",
       "      <th>3</th>\n",
       "      <td>False</td>\n",
       "      <td>NaN</td>\n",
       "      <td>16000000</td>\n",
       "      <td>[{'id': 35, 'name': 'Comedy'}, {'id': 18, 'nam...</td>\n",
       "      <td>NaN</td>\n",
       "      <td>31357</td>\n",
       "      <td>tt0114885</td>\n",
       "      <td>en</td>\n",
       "      <td>Waiting to Exhale</td>\n",
       "      <td>Cheated on, mistreated and stepped on, the wom...</td>\n",
       "      <td>...</td>\n",
       "      <td>1995-12-22</td>\n",
       "      <td>81452156.0</td>\n",
       "      <td>127.0</td>\n",
       "      <td>[{'iso_639_1': 'en', 'name': 'English'}]</td>\n",
       "      <td>Released</td>\n",
       "      <td>Friends are the people who let you be yourself...</td>\n",
       "      <td>Waiting to Exhale</td>\n",
       "      <td>False</td>\n",
       "      <td>6.1</td>\n",
       "      <td>34.0</td>\n",
       "    </tr>\n",
       "    <tr>\n",
       "      <th>4</th>\n",
       "      <td>False</td>\n",
       "      <td>{'id': 96871, 'name': 'Father of the Bride Col...</td>\n",
       "      <td>0</td>\n",
       "      <td>[{'id': 35, 'name': 'Comedy'}]</td>\n",
       "      <td>NaN</td>\n",
       "      <td>11862</td>\n",
       "      <td>tt0113041</td>\n",
       "      <td>en</td>\n",
       "      <td>Father of the Bride Part II</td>\n",
       "      <td>Just when George Banks has recovered from his ...</td>\n",
       "      <td>...</td>\n",
       "      <td>1995-02-10</td>\n",
       "      <td>76578911.0</td>\n",
       "      <td>106.0</td>\n",
       "      <td>[{'iso_639_1': 'en', 'name': 'English'}]</td>\n",
       "      <td>Released</td>\n",
       "      <td>Just When His World Is Back To Normal... He's ...</td>\n",
       "      <td>Father of the Bride Part II</td>\n",
       "      <td>False</td>\n",
       "      <td>5.7</td>\n",
       "      <td>173.0</td>\n",
       "    </tr>\n",
       "  </tbody>\n",
       "</table>\n",
       "<p>5 rows × 24 columns</p>\n",
       "</div>"
      ],
      "text/plain": [
       "   adult                              belongs_to_collection    budget  \\\n",
       "0  False  {'id': 10194, 'name': 'Toy Story Collection', ...  30000000   \n",
       "1  False                                                NaN  65000000   \n",
       "2  False  {'id': 119050, 'name': 'Grumpy Old Men Collect...         0   \n",
       "3  False                                                NaN  16000000   \n",
       "4  False  {'id': 96871, 'name': 'Father of the Bride Col...         0   \n",
       "\n",
       "                                              genres  \\\n",
       "0  [{'id': 16, 'name': 'Animation'}, {'id': 35, '...   \n",
       "1  [{'id': 12, 'name': 'Adventure'}, {'id': 14, '...   \n",
       "2  [{'id': 10749, 'name': 'Romance'}, {'id': 35, ...   \n",
       "3  [{'id': 35, 'name': 'Comedy'}, {'id': 18, 'nam...   \n",
       "4                     [{'id': 35, 'name': 'Comedy'}]   \n",
       "\n",
       "                               homepage     id    imdb_id original_language  \\\n",
       "0  http://toystory.disney.com/toy-story    862  tt0114709                en   \n",
       "1                                   NaN   8844  tt0113497                en   \n",
       "2                                   NaN  15602  tt0113228                en   \n",
       "3                                   NaN  31357  tt0114885                en   \n",
       "4                                   NaN  11862  tt0113041                en   \n",
       "\n",
       "                original_title  \\\n",
       "0                    Toy Story   \n",
       "1                      Jumanji   \n",
       "2             Grumpier Old Men   \n",
       "3            Waiting to Exhale   \n",
       "4  Father of the Bride Part II   \n",
       "\n",
       "                                            overview  ... release_date  \\\n",
       "0  Led by Woody, Andy's toys live happily in his ...  ...   1995-10-30   \n",
       "1  When siblings Judy and Peter discover an encha...  ...   1995-12-15   \n",
       "2  A family wedding reignites the ancient feud be...  ...   1995-12-22   \n",
       "3  Cheated on, mistreated and stepped on, the wom...  ...   1995-12-22   \n",
       "4  Just when George Banks has recovered from his ...  ...   1995-02-10   \n",
       "\n",
       "       revenue runtime                                   spoken_languages  \\\n",
       "0  373554033.0    81.0           [{'iso_639_1': 'en', 'name': 'English'}]   \n",
       "1  262797249.0   104.0  [{'iso_639_1': 'en', 'name': 'English'}, {'iso...   \n",
       "2          0.0   101.0           [{'iso_639_1': 'en', 'name': 'English'}]   \n",
       "3   81452156.0   127.0           [{'iso_639_1': 'en', 'name': 'English'}]   \n",
       "4   76578911.0   106.0           [{'iso_639_1': 'en', 'name': 'English'}]   \n",
       "\n",
       "     status                                            tagline  \\\n",
       "0  Released                                                NaN   \n",
       "1  Released          Roll the dice and unleash the excitement!   \n",
       "2  Released  Still Yelling. Still Fighting. Still Ready for...   \n",
       "3  Released  Friends are the people who let you be yourself...   \n",
       "4  Released  Just When His World Is Back To Normal... He's ...   \n",
       "\n",
       "                         title  video vote_average vote_count  \n",
       "0                    Toy Story  False          7.7     5415.0  \n",
       "1                      Jumanji  False          6.9     2413.0  \n",
       "2             Grumpier Old Men  False          6.5       92.0  \n",
       "3            Waiting to Exhale  False          6.1       34.0  \n",
       "4  Father of the Bride Part II  False          5.7      173.0  \n",
       "\n",
       "[5 rows x 24 columns]"
      ]
     },
     "execution_count": 85,
     "metadata": {},
     "output_type": "execute_result"
    }
   ],
   "source": [
    "df.head()"
   ]
  },
  {
   "cell_type": "code",
   "execution_count": 86,
   "id": "df3b9a56",
   "metadata": {},
   "outputs": [
    {
     "data": {
      "text/plain": [
       "Index(['adult', 'belongs_to_collection', 'budget', 'genres', 'homepage', 'id',\n",
       "       'imdb_id', 'original_language', 'original_title', 'overview',\n",
       "       'popularity', 'poster_path', 'production_companies',\n",
       "       'production_countries', 'release_date', 'revenue', 'runtime',\n",
       "       'spoken_languages', 'status', 'tagline', 'title', 'video',\n",
       "       'vote_average', 'vote_count'],\n",
       "      dtype='object')"
      ]
     },
     "execution_count": 86,
     "metadata": {},
     "output_type": "execute_result"
    }
   ],
   "source": [
    "df.columns"
   ]
  },
  {
   "cell_type": "code",
   "execution_count": 87,
   "id": "141dd773",
   "metadata": {},
   "outputs": [
    {
     "data": {
      "text/plain": [
       "'False'"
      ]
     },
     "execution_count": 87,
     "metadata": {},
     "output_type": "execute_result"
    }
   ],
   "source": [
    "df.adult.values[0]"
   ]
  },
  {
   "cell_type": "code",
   "execution_count": 88,
   "id": "f58ae643",
   "metadata": {},
   "outputs": [
    {
     "data": {
      "text/html": [
       "<div>\n",
       "<style scoped>\n",
       "    .dataframe tbody tr th:only-of-type {\n",
       "        vertical-align: middle;\n",
       "    }\n",
       "\n",
       "    .dataframe tbody tr th {\n",
       "        vertical-align: top;\n",
       "    }\n",
       "\n",
       "    .dataframe thead th {\n",
       "        text-align: right;\n",
       "    }\n",
       "</style>\n",
       "<table border=\"1\" class=\"dataframe\">\n",
       "  <thead>\n",
       "    <tr style=\"text-align: right;\">\n",
       "      <th></th>\n",
       "      <th>adult</th>\n",
       "      <th>belongs_to_collection</th>\n",
       "      <th>budget</th>\n",
       "      <th>genres</th>\n",
       "      <th>homepage</th>\n",
       "      <th>id</th>\n",
       "      <th>imdb_id</th>\n",
       "      <th>original_language</th>\n",
       "      <th>original_title</th>\n",
       "      <th>overview</th>\n",
       "      <th>...</th>\n",
       "      <th>release_date</th>\n",
       "      <th>revenue</th>\n",
       "      <th>runtime</th>\n",
       "      <th>spoken_languages</th>\n",
       "      <th>status</th>\n",
       "      <th>tagline</th>\n",
       "      <th>title</th>\n",
       "      <th>video</th>\n",
       "      <th>vote_average</th>\n",
       "      <th>vote_count</th>\n",
       "    </tr>\n",
       "  </thead>\n",
       "  <tbody>\n",
       "    <tr>\n",
       "      <th>19730</th>\n",
       "      <td>- Written by Ørnås</td>\n",
       "      <td>0.065736</td>\n",
       "      <td>/ff9qCepilowshEtG2GYWwzt2bs4.jpg</td>\n",
       "      <td>[{'name': 'Carousel Productions', 'id': 11176}...</td>\n",
       "      <td>[{'iso_3166_1': 'CA', 'name': 'Canada'}, {'iso...</td>\n",
       "      <td>1997-08-20</td>\n",
       "      <td>0</td>\n",
       "      <td>104.0</td>\n",
       "      <td>[{'iso_639_1': 'en', 'name': 'English'}]</td>\n",
       "      <td>Released</td>\n",
       "      <td>...</td>\n",
       "      <td>1</td>\n",
       "      <td>NaN</td>\n",
       "      <td>NaN</td>\n",
       "      <td>NaN</td>\n",
       "      <td>NaN</td>\n",
       "      <td>NaN</td>\n",
       "      <td>NaN</td>\n",
       "      <td>NaN</td>\n",
       "      <td>NaN</td>\n",
       "      <td>NaN</td>\n",
       "    </tr>\n",
       "    <tr>\n",
       "      <th>29503</th>\n",
       "      <td>Rune Balot goes to a casino connected to the ...</td>\n",
       "      <td>1.931659</td>\n",
       "      <td>/zV8bHuSL6WXoD6FWogP9j4x80bL.jpg</td>\n",
       "      <td>[{'name': 'Aniplex', 'id': 2883}, {'name': 'Go...</td>\n",
       "      <td>[{'iso_3166_1': 'US', 'name': 'United States o...</td>\n",
       "      <td>2012-09-29</td>\n",
       "      <td>0</td>\n",
       "      <td>68.0</td>\n",
       "      <td>[{'iso_639_1': 'ja', 'name': '日本語'}]</td>\n",
       "      <td>Released</td>\n",
       "      <td>...</td>\n",
       "      <td>12</td>\n",
       "      <td>NaN</td>\n",
       "      <td>NaN</td>\n",
       "      <td>NaN</td>\n",
       "      <td>NaN</td>\n",
       "      <td>NaN</td>\n",
       "      <td>NaN</td>\n",
       "      <td>NaN</td>\n",
       "      <td>NaN</td>\n",
       "      <td>NaN</td>\n",
       "    </tr>\n",
       "    <tr>\n",
       "      <th>35587</th>\n",
       "      <td>Avalanche Sharks tells the story of a bikini ...</td>\n",
       "      <td>2.185485</td>\n",
       "      <td>/zaSf5OG7V8X8gqFvly88zDdRm46.jpg</td>\n",
       "      <td>[{'name': 'Odyssey Media', 'id': 17161}, {'nam...</td>\n",
       "      <td>[{'iso_3166_1': 'CA', 'name': 'Canada'}]</td>\n",
       "      <td>2014-01-01</td>\n",
       "      <td>0</td>\n",
       "      <td>82.0</td>\n",
       "      <td>[{'iso_639_1': 'en', 'name': 'English'}]</td>\n",
       "      <td>Released</td>\n",
       "      <td>...</td>\n",
       "      <td>22</td>\n",
       "      <td>NaN</td>\n",
       "      <td>NaN</td>\n",
       "      <td>NaN</td>\n",
       "      <td>NaN</td>\n",
       "      <td>NaN</td>\n",
       "      <td>NaN</td>\n",
       "      <td>NaN</td>\n",
       "      <td>NaN</td>\n",
       "      <td>NaN</td>\n",
       "    </tr>\n",
       "  </tbody>\n",
       "</table>\n",
       "<p>3 rows × 24 columns</p>\n",
       "</div>"
      ],
      "text/plain": [
       "                                                   adult  \\\n",
       "19730                                 - Written by Ørnås   \n",
       "29503   Rune Balot goes to a casino connected to the ...   \n",
       "35587   Avalanche Sharks tells the story of a bikini ...   \n",
       "\n",
       "      belongs_to_collection                            budget  \\\n",
       "19730              0.065736  /ff9qCepilowshEtG2GYWwzt2bs4.jpg   \n",
       "29503              1.931659  /zV8bHuSL6WXoD6FWogP9j4x80bL.jpg   \n",
       "35587              2.185485  /zaSf5OG7V8X8gqFvly88zDdRm46.jpg   \n",
       "\n",
       "                                                  genres  \\\n",
       "19730  [{'name': 'Carousel Productions', 'id': 11176}...   \n",
       "29503  [{'name': 'Aniplex', 'id': 2883}, {'name': 'Go...   \n",
       "35587  [{'name': 'Odyssey Media', 'id': 17161}, {'nam...   \n",
       "\n",
       "                                                homepage          id imdb_id  \\\n",
       "19730  [{'iso_3166_1': 'CA', 'name': 'Canada'}, {'iso...  1997-08-20       0   \n",
       "29503  [{'iso_3166_1': 'US', 'name': 'United States o...  2012-09-29       0   \n",
       "35587           [{'iso_3166_1': 'CA', 'name': 'Canada'}]  2014-01-01       0   \n",
       "\n",
       "      original_language                            original_title  overview  \\\n",
       "19730             104.0  [{'iso_639_1': 'en', 'name': 'English'}]  Released   \n",
       "29503              68.0      [{'iso_639_1': 'ja', 'name': '日本語'}]  Released   \n",
       "35587              82.0  [{'iso_639_1': 'en', 'name': 'English'}]  Released   \n",
       "\n",
       "       ... release_date revenue runtime spoken_languages status  tagline  \\\n",
       "19730  ...            1     NaN     NaN              NaN    NaN      NaN   \n",
       "29503  ...           12     NaN     NaN              NaN    NaN      NaN   \n",
       "35587  ...           22     NaN     NaN              NaN    NaN      NaN   \n",
       "\n",
       "       title video vote_average vote_count  \n",
       "19730    NaN   NaN          NaN        NaN  \n",
       "29503    NaN   NaN          NaN        NaN  \n",
       "35587    NaN   NaN          NaN        NaN  \n",
       "\n",
       "[3 rows x 24 columns]"
      ]
     },
     "execution_count": 88,
     "metadata": {},
     "output_type": "execute_result"
    }
   ],
   "source": [
    "df.loc[~df.adult.isin(['True','False']),:] "
   ]
  },
  {
   "cell_type": "code",
   "execution_count": 89,
   "id": "f466be29",
   "metadata": {},
   "outputs": [],
   "source": [
    "df= df.loc[df.adult.isin(['False','True']),:]# only choosing the rows where the adult column is either true or false"
   ]
  },
  {
   "cell_type": "code",
   "execution_count": 90,
   "id": "9a04f8a8",
   "metadata": {},
   "outputs": [],
   "source": [
    "df.adult=df.adult.map({'True':True,'False':False})#converting string to Bollean"
   ]
  },
  {
   "cell_type": "code",
   "execution_count": 91,
   "id": "15e6781f",
   "metadata": {},
   "outputs": [
    {
     "data": {
      "text/html": [
       "<div>\n",
       "<style scoped>\n",
       "    .dataframe tbody tr th:only-of-type {\n",
       "        vertical-align: middle;\n",
       "    }\n",
       "\n",
       "    .dataframe tbody tr th {\n",
       "        vertical-align: top;\n",
       "    }\n",
       "\n",
       "    .dataframe thead th {\n",
       "        text-align: right;\n",
       "    }\n",
       "</style>\n",
       "<table border=\"1\" class=\"dataframe\">\n",
       "  <thead>\n",
       "    <tr style=\"text-align: right;\">\n",
       "      <th></th>\n",
       "      <th>adult</th>\n",
       "      <th>belongs_to_collection</th>\n",
       "      <th>budget</th>\n",
       "      <th>genres</th>\n",
       "      <th>homepage</th>\n",
       "      <th>id</th>\n",
       "      <th>imdb_id</th>\n",
       "      <th>original_language</th>\n",
       "      <th>original_title</th>\n",
       "      <th>overview</th>\n",
       "      <th>...</th>\n",
       "      <th>release_date</th>\n",
       "      <th>revenue</th>\n",
       "      <th>runtime</th>\n",
       "      <th>spoken_languages</th>\n",
       "      <th>status</th>\n",
       "      <th>tagline</th>\n",
       "      <th>title</th>\n",
       "      <th>video</th>\n",
       "      <th>vote_average</th>\n",
       "      <th>vote_count</th>\n",
       "    </tr>\n",
       "  </thead>\n",
       "  <tbody>\n",
       "    <tr>\n",
       "      <th>0</th>\n",
       "      <td>False</td>\n",
       "      <td>{'id': 10194, 'name': 'Toy Story Collection', ...</td>\n",
       "      <td>30000000</td>\n",
       "      <td>[{'id': 16, 'name': 'Animation'}, {'id': 35, '...</td>\n",
       "      <td>http://toystory.disney.com/toy-story</td>\n",
       "      <td>862</td>\n",
       "      <td>tt0114709</td>\n",
       "      <td>en</td>\n",
       "      <td>Toy Story</td>\n",
       "      <td>Led by Woody, Andy's toys live happily in his ...</td>\n",
       "      <td>...</td>\n",
       "      <td>1995-10-30</td>\n",
       "      <td>373554033.0</td>\n",
       "      <td>81.0</td>\n",
       "      <td>[{'iso_639_1': 'en', 'name': 'English'}]</td>\n",
       "      <td>Released</td>\n",
       "      <td>NaN</td>\n",
       "      <td>Toy Story</td>\n",
       "      <td>False</td>\n",
       "      <td>7.7</td>\n",
       "      <td>5415.0</td>\n",
       "    </tr>\n",
       "    <tr>\n",
       "      <th>1</th>\n",
       "      <td>False</td>\n",
       "      <td>NaN</td>\n",
       "      <td>65000000</td>\n",
       "      <td>[{'id': 12, 'name': 'Adventure'}, {'id': 14, '...</td>\n",
       "      <td>NaN</td>\n",
       "      <td>8844</td>\n",
       "      <td>tt0113497</td>\n",
       "      <td>en</td>\n",
       "      <td>Jumanji</td>\n",
       "      <td>When siblings Judy and Peter discover an encha...</td>\n",
       "      <td>...</td>\n",
       "      <td>1995-12-15</td>\n",
       "      <td>262797249.0</td>\n",
       "      <td>104.0</td>\n",
       "      <td>[{'iso_639_1': 'en', 'name': 'English'}, {'iso...</td>\n",
       "      <td>Released</td>\n",
       "      <td>Roll the dice and unleash the excitement!</td>\n",
       "      <td>Jumanji</td>\n",
       "      <td>False</td>\n",
       "      <td>6.9</td>\n",
       "      <td>2413.0</td>\n",
       "    </tr>\n",
       "    <tr>\n",
       "      <th>2</th>\n",
       "      <td>False</td>\n",
       "      <td>{'id': 119050, 'name': 'Grumpy Old Men Collect...</td>\n",
       "      <td>0</td>\n",
       "      <td>[{'id': 10749, 'name': 'Romance'}, {'id': 35, ...</td>\n",
       "      <td>NaN</td>\n",
       "      <td>15602</td>\n",
       "      <td>tt0113228</td>\n",
       "      <td>en</td>\n",
       "      <td>Grumpier Old Men</td>\n",
       "      <td>A family wedding reignites the ancient feud be...</td>\n",
       "      <td>...</td>\n",
       "      <td>1995-12-22</td>\n",
       "      <td>0.0</td>\n",
       "      <td>101.0</td>\n",
       "      <td>[{'iso_639_1': 'en', 'name': 'English'}]</td>\n",
       "      <td>Released</td>\n",
       "      <td>Still Yelling. Still Fighting. Still Ready for...</td>\n",
       "      <td>Grumpier Old Men</td>\n",
       "      <td>False</td>\n",
       "      <td>6.5</td>\n",
       "      <td>92.0</td>\n",
       "    </tr>\n",
       "    <tr>\n",
       "      <th>3</th>\n",
       "      <td>False</td>\n",
       "      <td>NaN</td>\n",
       "      <td>16000000</td>\n",
       "      <td>[{'id': 35, 'name': 'Comedy'}, {'id': 18, 'nam...</td>\n",
       "      <td>NaN</td>\n",
       "      <td>31357</td>\n",
       "      <td>tt0114885</td>\n",
       "      <td>en</td>\n",
       "      <td>Waiting to Exhale</td>\n",
       "      <td>Cheated on, mistreated and stepped on, the wom...</td>\n",
       "      <td>...</td>\n",
       "      <td>1995-12-22</td>\n",
       "      <td>81452156.0</td>\n",
       "      <td>127.0</td>\n",
       "      <td>[{'iso_639_1': 'en', 'name': 'English'}]</td>\n",
       "      <td>Released</td>\n",
       "      <td>Friends are the people who let you be yourself...</td>\n",
       "      <td>Waiting to Exhale</td>\n",
       "      <td>False</td>\n",
       "      <td>6.1</td>\n",
       "      <td>34.0</td>\n",
       "    </tr>\n",
       "    <tr>\n",
       "      <th>4</th>\n",
       "      <td>False</td>\n",
       "      <td>{'id': 96871, 'name': 'Father of the Bride Col...</td>\n",
       "      <td>0</td>\n",
       "      <td>[{'id': 35, 'name': 'Comedy'}]</td>\n",
       "      <td>NaN</td>\n",
       "      <td>11862</td>\n",
       "      <td>tt0113041</td>\n",
       "      <td>en</td>\n",
       "      <td>Father of the Bride Part II</td>\n",
       "      <td>Just when George Banks has recovered from his ...</td>\n",
       "      <td>...</td>\n",
       "      <td>1995-02-10</td>\n",
       "      <td>76578911.0</td>\n",
       "      <td>106.0</td>\n",
       "      <td>[{'iso_639_1': 'en', 'name': 'English'}]</td>\n",
       "      <td>Released</td>\n",
       "      <td>Just When His World Is Back To Normal... He's ...</td>\n",
       "      <td>Father of the Bride Part II</td>\n",
       "      <td>False</td>\n",
       "      <td>5.7</td>\n",
       "      <td>173.0</td>\n",
       "    </tr>\n",
       "    <tr>\n",
       "      <th>...</th>\n",
       "      <td>...</td>\n",
       "      <td>...</td>\n",
       "      <td>...</td>\n",
       "      <td>...</td>\n",
       "      <td>...</td>\n",
       "      <td>...</td>\n",
       "      <td>...</td>\n",
       "      <td>...</td>\n",
       "      <td>...</td>\n",
       "      <td>...</td>\n",
       "      <td>...</td>\n",
       "      <td>...</td>\n",
       "      <td>...</td>\n",
       "      <td>...</td>\n",
       "      <td>...</td>\n",
       "      <td>...</td>\n",
       "      <td>...</td>\n",
       "      <td>...</td>\n",
       "      <td>...</td>\n",
       "      <td>...</td>\n",
       "      <td>...</td>\n",
       "    </tr>\n",
       "    <tr>\n",
       "      <th>45461</th>\n",
       "      <td>False</td>\n",
       "      <td>NaN</td>\n",
       "      <td>0</td>\n",
       "      <td>[{'id': 18, 'name': 'Drama'}, {'id': 10751, 'n...</td>\n",
       "      <td>http://www.imdb.com/title/tt6209470/</td>\n",
       "      <td>439050</td>\n",
       "      <td>tt6209470</td>\n",
       "      <td>fa</td>\n",
       "      <td>رگ خواب</td>\n",
       "      <td>Rising and falling between a man and woman.</td>\n",
       "      <td>...</td>\n",
       "      <td>NaN</td>\n",
       "      <td>0.0</td>\n",
       "      <td>90.0</td>\n",
       "      <td>[{'iso_639_1': 'fa', 'name': 'فارسی'}]</td>\n",
       "      <td>Released</td>\n",
       "      <td>Rising and falling between a man and woman</td>\n",
       "      <td>Subdue</td>\n",
       "      <td>False</td>\n",
       "      <td>4.0</td>\n",
       "      <td>1.0</td>\n",
       "    </tr>\n",
       "    <tr>\n",
       "      <th>45462</th>\n",
       "      <td>False</td>\n",
       "      <td>NaN</td>\n",
       "      <td>0</td>\n",
       "      <td>[{'id': 18, 'name': 'Drama'}]</td>\n",
       "      <td>NaN</td>\n",
       "      <td>111109</td>\n",
       "      <td>tt2028550</td>\n",
       "      <td>tl</td>\n",
       "      <td>Siglo ng Pagluluwal</td>\n",
       "      <td>An artist struggles to finish his work while a...</td>\n",
       "      <td>...</td>\n",
       "      <td>2011-11-17</td>\n",
       "      <td>0.0</td>\n",
       "      <td>360.0</td>\n",
       "      <td>[{'iso_639_1': 'tl', 'name': ''}]</td>\n",
       "      <td>Released</td>\n",
       "      <td>NaN</td>\n",
       "      <td>Century of Birthing</td>\n",
       "      <td>False</td>\n",
       "      <td>9.0</td>\n",
       "      <td>3.0</td>\n",
       "    </tr>\n",
       "    <tr>\n",
       "      <th>45463</th>\n",
       "      <td>False</td>\n",
       "      <td>NaN</td>\n",
       "      <td>0</td>\n",
       "      <td>[{'id': 28, 'name': 'Action'}, {'id': 18, 'nam...</td>\n",
       "      <td>NaN</td>\n",
       "      <td>67758</td>\n",
       "      <td>tt0303758</td>\n",
       "      <td>en</td>\n",
       "      <td>Betrayal</td>\n",
       "      <td>When one of her hits goes wrong, a professiona...</td>\n",
       "      <td>...</td>\n",
       "      <td>2003-08-01</td>\n",
       "      <td>0.0</td>\n",
       "      <td>90.0</td>\n",
       "      <td>[{'iso_639_1': 'en', 'name': 'English'}]</td>\n",
       "      <td>Released</td>\n",
       "      <td>A deadly game of wits.</td>\n",
       "      <td>Betrayal</td>\n",
       "      <td>False</td>\n",
       "      <td>3.8</td>\n",
       "      <td>6.0</td>\n",
       "    </tr>\n",
       "    <tr>\n",
       "      <th>45464</th>\n",
       "      <td>False</td>\n",
       "      <td>NaN</td>\n",
       "      <td>0</td>\n",
       "      <td>[]</td>\n",
       "      <td>NaN</td>\n",
       "      <td>227506</td>\n",
       "      <td>tt0008536</td>\n",
       "      <td>en</td>\n",
       "      <td>Satana likuyushchiy</td>\n",
       "      <td>In a small town live two brothers, one a minis...</td>\n",
       "      <td>...</td>\n",
       "      <td>1917-10-21</td>\n",
       "      <td>0.0</td>\n",
       "      <td>87.0</td>\n",
       "      <td>[]</td>\n",
       "      <td>Released</td>\n",
       "      <td>NaN</td>\n",
       "      <td>Satan Triumphant</td>\n",
       "      <td>False</td>\n",
       "      <td>0.0</td>\n",
       "      <td>0.0</td>\n",
       "    </tr>\n",
       "    <tr>\n",
       "      <th>45465</th>\n",
       "      <td>False</td>\n",
       "      <td>NaN</td>\n",
       "      <td>0</td>\n",
       "      <td>[]</td>\n",
       "      <td>NaN</td>\n",
       "      <td>461257</td>\n",
       "      <td>tt6980792</td>\n",
       "      <td>en</td>\n",
       "      <td>Queerama</td>\n",
       "      <td>50 years after decriminalisation of homosexual...</td>\n",
       "      <td>...</td>\n",
       "      <td>2017-06-09</td>\n",
       "      <td>0.0</td>\n",
       "      <td>75.0</td>\n",
       "      <td>[{'iso_639_1': 'en', 'name': 'English'}]</td>\n",
       "      <td>Released</td>\n",
       "      <td>NaN</td>\n",
       "      <td>Queerama</td>\n",
       "      <td>False</td>\n",
       "      <td>0.0</td>\n",
       "      <td>0.0</td>\n",
       "    </tr>\n",
       "  </tbody>\n",
       "</table>\n",
       "<p>45463 rows × 24 columns</p>\n",
       "</div>"
      ],
      "text/plain": [
       "       adult                              belongs_to_collection    budget  \\\n",
       "0      False  {'id': 10194, 'name': 'Toy Story Collection', ...  30000000   \n",
       "1      False                                                NaN  65000000   \n",
       "2      False  {'id': 119050, 'name': 'Grumpy Old Men Collect...         0   \n",
       "3      False                                                NaN  16000000   \n",
       "4      False  {'id': 96871, 'name': 'Father of the Bride Col...         0   \n",
       "...      ...                                                ...       ...   \n",
       "45461  False                                                NaN         0   \n",
       "45462  False                                                NaN         0   \n",
       "45463  False                                                NaN         0   \n",
       "45464  False                                                NaN         0   \n",
       "45465  False                                                NaN         0   \n",
       "\n",
       "                                                  genres  \\\n",
       "0      [{'id': 16, 'name': 'Animation'}, {'id': 35, '...   \n",
       "1      [{'id': 12, 'name': 'Adventure'}, {'id': 14, '...   \n",
       "2      [{'id': 10749, 'name': 'Romance'}, {'id': 35, ...   \n",
       "3      [{'id': 35, 'name': 'Comedy'}, {'id': 18, 'nam...   \n",
       "4                         [{'id': 35, 'name': 'Comedy'}]   \n",
       "...                                                  ...   \n",
       "45461  [{'id': 18, 'name': 'Drama'}, {'id': 10751, 'n...   \n",
       "45462                      [{'id': 18, 'name': 'Drama'}]   \n",
       "45463  [{'id': 28, 'name': 'Action'}, {'id': 18, 'nam...   \n",
       "45464                                                 []   \n",
       "45465                                                 []   \n",
       "\n",
       "                                   homepage      id    imdb_id  \\\n",
       "0      http://toystory.disney.com/toy-story     862  tt0114709   \n",
       "1                                       NaN    8844  tt0113497   \n",
       "2                                       NaN   15602  tt0113228   \n",
       "3                                       NaN   31357  tt0114885   \n",
       "4                                       NaN   11862  tt0113041   \n",
       "...                                     ...     ...        ...   \n",
       "45461  http://www.imdb.com/title/tt6209470/  439050  tt6209470   \n",
       "45462                                   NaN  111109  tt2028550   \n",
       "45463                                   NaN   67758  tt0303758   \n",
       "45464                                   NaN  227506  tt0008536   \n",
       "45465                                   NaN  461257  tt6980792   \n",
       "\n",
       "      original_language               original_title  \\\n",
       "0                    en                    Toy Story   \n",
       "1                    en                      Jumanji   \n",
       "2                    en             Grumpier Old Men   \n",
       "3                    en            Waiting to Exhale   \n",
       "4                    en  Father of the Bride Part II   \n",
       "...                 ...                          ...   \n",
       "45461                fa                      رگ خواب   \n",
       "45462                tl          Siglo ng Pagluluwal   \n",
       "45463                en                     Betrayal   \n",
       "45464                en          Satana likuyushchiy   \n",
       "45465                en                     Queerama   \n",
       "\n",
       "                                                overview  ... release_date  \\\n",
       "0      Led by Woody, Andy's toys live happily in his ...  ...   1995-10-30   \n",
       "1      When siblings Judy and Peter discover an encha...  ...   1995-12-15   \n",
       "2      A family wedding reignites the ancient feud be...  ...   1995-12-22   \n",
       "3      Cheated on, mistreated and stepped on, the wom...  ...   1995-12-22   \n",
       "4      Just when George Banks has recovered from his ...  ...   1995-02-10   \n",
       "...                                                  ...  ...          ...   \n",
       "45461        Rising and falling between a man and woman.  ...          NaN   \n",
       "45462  An artist struggles to finish his work while a...  ...   2011-11-17   \n",
       "45463  When one of her hits goes wrong, a professiona...  ...   2003-08-01   \n",
       "45464  In a small town live two brothers, one a minis...  ...   1917-10-21   \n",
       "45465  50 years after decriminalisation of homosexual...  ...   2017-06-09   \n",
       "\n",
       "           revenue runtime                                   spoken_languages  \\\n",
       "0      373554033.0    81.0           [{'iso_639_1': 'en', 'name': 'English'}]   \n",
       "1      262797249.0   104.0  [{'iso_639_1': 'en', 'name': 'English'}, {'iso...   \n",
       "2              0.0   101.0           [{'iso_639_1': 'en', 'name': 'English'}]   \n",
       "3       81452156.0   127.0           [{'iso_639_1': 'en', 'name': 'English'}]   \n",
       "4       76578911.0   106.0           [{'iso_639_1': 'en', 'name': 'English'}]   \n",
       "...            ...     ...                                                ...   \n",
       "45461          0.0    90.0             [{'iso_639_1': 'fa', 'name': 'فارسی'}]   \n",
       "45462          0.0   360.0                  [{'iso_639_1': 'tl', 'name': ''}]   \n",
       "45463          0.0    90.0           [{'iso_639_1': 'en', 'name': 'English'}]   \n",
       "45464          0.0    87.0                                                 []   \n",
       "45465          0.0    75.0           [{'iso_639_1': 'en', 'name': 'English'}]   \n",
       "\n",
       "         status                                            tagline  \\\n",
       "0      Released                                                NaN   \n",
       "1      Released          Roll the dice and unleash the excitement!   \n",
       "2      Released  Still Yelling. Still Fighting. Still Ready for...   \n",
       "3      Released  Friends are the people who let you be yourself...   \n",
       "4      Released  Just When His World Is Back To Normal... He's ...   \n",
       "...         ...                                                ...   \n",
       "45461  Released         Rising and falling between a man and woman   \n",
       "45462  Released                                                NaN   \n",
       "45463  Released                             A deadly game of wits.   \n",
       "45464  Released                                                NaN   \n",
       "45465  Released                                                NaN   \n",
       "\n",
       "                             title  video vote_average vote_count  \n",
       "0                        Toy Story  False          7.7     5415.0  \n",
       "1                          Jumanji  False          6.9     2413.0  \n",
       "2                 Grumpier Old Men  False          6.5       92.0  \n",
       "3                Waiting to Exhale  False          6.1       34.0  \n",
       "4      Father of the Bride Part II  False          5.7      173.0  \n",
       "...                            ...    ...          ...        ...  \n",
       "45461                       Subdue  False          4.0        1.0  \n",
       "45462          Century of Birthing  False          9.0        3.0  \n",
       "45463                     Betrayal  False          3.8        6.0  \n",
       "45464             Satan Triumphant  False          0.0        0.0  \n",
       "45465                     Queerama  False          0.0        0.0  \n",
       "\n",
       "[45463 rows x 24 columns]"
      ]
     },
     "execution_count": 91,
     "metadata": {},
     "output_type": "execute_result"
    }
   ],
   "source": [
    "df"
   ]
  },
  {
   "cell_type": "code",
   "execution_count": 92,
   "id": "0650a91e",
   "metadata": {},
   "outputs": [
    {
     "data": {
      "text/plain": [
       "0"
      ]
     },
     "execution_count": 92,
     "metadata": {},
     "output_type": "execute_result"
    }
   ],
   "source": [
    "df.adult.isnull().sum()"
   ]
  },
  {
   "cell_type": "code",
   "execution_count": 93,
   "id": "2fa14f86",
   "metadata": {},
   "outputs": [],
   "source": [
    "import numpy as np\n",
    "import ast"
   ]
  },
  {
   "cell_type": "code",
   "execution_count": 94,
   "id": "2106ac6b",
   "metadata": {},
   "outputs": [
    {
     "data": {
      "text/plain": [
       "'Toy Story Collection'"
      ]
     },
     "execution_count": 94,
     "metadata": {},
     "output_type": "execute_result"
    }
   ],
   "source": [
    "ast.literal_eval(df.belongs_to_collection.values[0])['name']"
   ]
  },
  {
   "cell_type": "code",
   "execution_count": 95,
   "id": "e7fc51b0",
   "metadata": {},
   "outputs": [],
   "source": [
    "collectionNames =[]\n",
    "for i in df['belongs_to_collection'].values:\n",
    "    if i ==i:\n",
    "        collectionNames.append(ast.literal_eval(i)['name'])\n",
    "    else:\n",
    "        collectionNames.append('NO collection')\n",
    "        \n",
    "df['collectionName'] = collectionNames\n",
    "df = df.drop(columns = ['belongs_to_collection'])\n",
    "            "
   ]
  },
  {
   "cell_type": "code",
   "execution_count": 96,
   "id": "8014abf5",
   "metadata": {},
   "outputs": [
    {
     "data": {
      "text/html": [
       "<div>\n",
       "<style scoped>\n",
       "    .dataframe tbody tr th:only-of-type {\n",
       "        vertical-align: middle;\n",
       "    }\n",
       "\n",
       "    .dataframe tbody tr th {\n",
       "        vertical-align: top;\n",
       "    }\n",
       "\n",
       "    .dataframe thead th {\n",
       "        text-align: right;\n",
       "    }\n",
       "</style>\n",
       "<table border=\"1\" class=\"dataframe\">\n",
       "  <thead>\n",
       "    <tr style=\"text-align: right;\">\n",
       "      <th></th>\n",
       "      <th>adult</th>\n",
       "      <th>budget</th>\n",
       "      <th>genres</th>\n",
       "      <th>homepage</th>\n",
       "      <th>id</th>\n",
       "      <th>imdb_id</th>\n",
       "      <th>original_language</th>\n",
       "      <th>original_title</th>\n",
       "      <th>overview</th>\n",
       "      <th>popularity</th>\n",
       "      <th>...</th>\n",
       "      <th>revenue</th>\n",
       "      <th>runtime</th>\n",
       "      <th>spoken_languages</th>\n",
       "      <th>status</th>\n",
       "      <th>tagline</th>\n",
       "      <th>title</th>\n",
       "      <th>video</th>\n",
       "      <th>vote_average</th>\n",
       "      <th>vote_count</th>\n",
       "      <th>collectionName</th>\n",
       "    </tr>\n",
       "  </thead>\n",
       "  <tbody>\n",
       "    <tr>\n",
       "      <th>0</th>\n",
       "      <td>False</td>\n",
       "      <td>30000000</td>\n",
       "      <td>[{'id': 16, 'name': 'Animation'}, {'id': 35, '...</td>\n",
       "      <td>http://toystory.disney.com/toy-story</td>\n",
       "      <td>862</td>\n",
       "      <td>tt0114709</td>\n",
       "      <td>en</td>\n",
       "      <td>Toy Story</td>\n",
       "      <td>Led by Woody, Andy's toys live happily in his ...</td>\n",
       "      <td>21.946943</td>\n",
       "      <td>...</td>\n",
       "      <td>373554033.0</td>\n",
       "      <td>81.0</td>\n",
       "      <td>[{'iso_639_1': 'en', 'name': 'English'}]</td>\n",
       "      <td>Released</td>\n",
       "      <td>NaN</td>\n",
       "      <td>Toy Story</td>\n",
       "      <td>False</td>\n",
       "      <td>7.7</td>\n",
       "      <td>5415.0</td>\n",
       "      <td>Toy Story Collection</td>\n",
       "    </tr>\n",
       "    <tr>\n",
       "      <th>1</th>\n",
       "      <td>False</td>\n",
       "      <td>65000000</td>\n",
       "      <td>[{'id': 12, 'name': 'Adventure'}, {'id': 14, '...</td>\n",
       "      <td>NaN</td>\n",
       "      <td>8844</td>\n",
       "      <td>tt0113497</td>\n",
       "      <td>en</td>\n",
       "      <td>Jumanji</td>\n",
       "      <td>When siblings Judy and Peter discover an encha...</td>\n",
       "      <td>17.015539</td>\n",
       "      <td>...</td>\n",
       "      <td>262797249.0</td>\n",
       "      <td>104.0</td>\n",
       "      <td>[{'iso_639_1': 'en', 'name': 'English'}, {'iso...</td>\n",
       "      <td>Released</td>\n",
       "      <td>Roll the dice and unleash the excitement!</td>\n",
       "      <td>Jumanji</td>\n",
       "      <td>False</td>\n",
       "      <td>6.9</td>\n",
       "      <td>2413.0</td>\n",
       "      <td>NO collection</td>\n",
       "    </tr>\n",
       "    <tr>\n",
       "      <th>2</th>\n",
       "      <td>False</td>\n",
       "      <td>0</td>\n",
       "      <td>[{'id': 10749, 'name': 'Romance'}, {'id': 35, ...</td>\n",
       "      <td>NaN</td>\n",
       "      <td>15602</td>\n",
       "      <td>tt0113228</td>\n",
       "      <td>en</td>\n",
       "      <td>Grumpier Old Men</td>\n",
       "      <td>A family wedding reignites the ancient feud be...</td>\n",
       "      <td>11.7129</td>\n",
       "      <td>...</td>\n",
       "      <td>0.0</td>\n",
       "      <td>101.0</td>\n",
       "      <td>[{'iso_639_1': 'en', 'name': 'English'}]</td>\n",
       "      <td>Released</td>\n",
       "      <td>Still Yelling. Still Fighting. Still Ready for...</td>\n",
       "      <td>Grumpier Old Men</td>\n",
       "      <td>False</td>\n",
       "      <td>6.5</td>\n",
       "      <td>92.0</td>\n",
       "      <td>Grumpy Old Men Collection</td>\n",
       "    </tr>\n",
       "    <tr>\n",
       "      <th>3</th>\n",
       "      <td>False</td>\n",
       "      <td>16000000</td>\n",
       "      <td>[{'id': 35, 'name': 'Comedy'}, {'id': 18, 'nam...</td>\n",
       "      <td>NaN</td>\n",
       "      <td>31357</td>\n",
       "      <td>tt0114885</td>\n",
       "      <td>en</td>\n",
       "      <td>Waiting to Exhale</td>\n",
       "      <td>Cheated on, mistreated and stepped on, the wom...</td>\n",
       "      <td>3.859495</td>\n",
       "      <td>...</td>\n",
       "      <td>81452156.0</td>\n",
       "      <td>127.0</td>\n",
       "      <td>[{'iso_639_1': 'en', 'name': 'English'}]</td>\n",
       "      <td>Released</td>\n",
       "      <td>Friends are the people who let you be yourself...</td>\n",
       "      <td>Waiting to Exhale</td>\n",
       "      <td>False</td>\n",
       "      <td>6.1</td>\n",
       "      <td>34.0</td>\n",
       "      <td>NO collection</td>\n",
       "    </tr>\n",
       "    <tr>\n",
       "      <th>4</th>\n",
       "      <td>False</td>\n",
       "      <td>0</td>\n",
       "      <td>[{'id': 35, 'name': 'Comedy'}]</td>\n",
       "      <td>NaN</td>\n",
       "      <td>11862</td>\n",
       "      <td>tt0113041</td>\n",
       "      <td>en</td>\n",
       "      <td>Father of the Bride Part II</td>\n",
       "      <td>Just when George Banks has recovered from his ...</td>\n",
       "      <td>8.387519</td>\n",
       "      <td>...</td>\n",
       "      <td>76578911.0</td>\n",
       "      <td>106.0</td>\n",
       "      <td>[{'iso_639_1': 'en', 'name': 'English'}]</td>\n",
       "      <td>Released</td>\n",
       "      <td>Just When His World Is Back To Normal... He's ...</td>\n",
       "      <td>Father of the Bride Part II</td>\n",
       "      <td>False</td>\n",
       "      <td>5.7</td>\n",
       "      <td>173.0</td>\n",
       "      <td>Father of the Bride Collection</td>\n",
       "    </tr>\n",
       "  </tbody>\n",
       "</table>\n",
       "<p>5 rows × 24 columns</p>\n",
       "</div>"
      ],
      "text/plain": [
       "   adult    budget                                             genres  \\\n",
       "0  False  30000000  [{'id': 16, 'name': 'Animation'}, {'id': 35, '...   \n",
       "1  False  65000000  [{'id': 12, 'name': 'Adventure'}, {'id': 14, '...   \n",
       "2  False         0  [{'id': 10749, 'name': 'Romance'}, {'id': 35, ...   \n",
       "3  False  16000000  [{'id': 35, 'name': 'Comedy'}, {'id': 18, 'nam...   \n",
       "4  False         0                     [{'id': 35, 'name': 'Comedy'}]   \n",
       "\n",
       "                               homepage     id    imdb_id original_language  \\\n",
       "0  http://toystory.disney.com/toy-story    862  tt0114709                en   \n",
       "1                                   NaN   8844  tt0113497                en   \n",
       "2                                   NaN  15602  tt0113228                en   \n",
       "3                                   NaN  31357  tt0114885                en   \n",
       "4                                   NaN  11862  tt0113041                en   \n",
       "\n",
       "                original_title  \\\n",
       "0                    Toy Story   \n",
       "1                      Jumanji   \n",
       "2             Grumpier Old Men   \n",
       "3            Waiting to Exhale   \n",
       "4  Father of the Bride Part II   \n",
       "\n",
       "                                            overview popularity  ...  \\\n",
       "0  Led by Woody, Andy's toys live happily in his ...  21.946943  ...   \n",
       "1  When siblings Judy and Peter discover an encha...  17.015539  ...   \n",
       "2  A family wedding reignites the ancient feud be...    11.7129  ...   \n",
       "3  Cheated on, mistreated and stepped on, the wom...   3.859495  ...   \n",
       "4  Just when George Banks has recovered from his ...   8.387519  ...   \n",
       "\n",
       "       revenue runtime                                   spoken_languages  \\\n",
       "0  373554033.0    81.0           [{'iso_639_1': 'en', 'name': 'English'}]   \n",
       "1  262797249.0   104.0  [{'iso_639_1': 'en', 'name': 'English'}, {'iso...   \n",
       "2          0.0   101.0           [{'iso_639_1': 'en', 'name': 'English'}]   \n",
       "3   81452156.0   127.0           [{'iso_639_1': 'en', 'name': 'English'}]   \n",
       "4   76578911.0   106.0           [{'iso_639_1': 'en', 'name': 'English'}]   \n",
       "\n",
       "     status                                            tagline  \\\n",
       "0  Released                                                NaN   \n",
       "1  Released          Roll the dice and unleash the excitement!   \n",
       "2  Released  Still Yelling. Still Fighting. Still Ready for...   \n",
       "3  Released  Friends are the people who let you be yourself...   \n",
       "4  Released  Just When His World Is Back To Normal... He's ...   \n",
       "\n",
       "                         title  video vote_average vote_count  \\\n",
       "0                    Toy Story  False          7.7     5415.0   \n",
       "1                      Jumanji  False          6.9     2413.0   \n",
       "2             Grumpier Old Men  False          6.5       92.0   \n",
       "3            Waiting to Exhale  False          6.1       34.0   \n",
       "4  Father of the Bride Part II  False          5.7      173.0   \n",
       "\n",
       "                   collectionName  \n",
       "0            Toy Story Collection  \n",
       "1                   NO collection  \n",
       "2       Grumpy Old Men Collection  \n",
       "3                   NO collection  \n",
       "4  Father of the Bride Collection  \n",
       "\n",
       "[5 rows x 24 columns]"
      ]
     },
     "execution_count": 96,
     "metadata": {},
     "output_type": "execute_result"
    }
   ],
   "source": [
    "df.head()"
   ]
  },
  {
   "cell_type": "code",
   "execution_count": 97,
   "id": "7f09720d",
   "metadata": {},
   "outputs": [
    {
     "data": {
      "text/plain": [
       "'30000000'"
      ]
     },
     "execution_count": 97,
     "metadata": {},
     "output_type": "execute_result"
    }
   ],
   "source": [
    "df.budget.values[0]"
   ]
  },
  {
   "cell_type": "code",
   "execution_count": 98,
   "id": "d525f0d0",
   "metadata": {},
   "outputs": [
    {
     "data": {
      "text/plain": [
       "count    4.546300e+04\n",
       "mean     4.224579e+06\n",
       "std      1.742413e+07\n",
       "min      0.000000e+00\n",
       "25%      0.000000e+00\n",
       "50%      0.000000e+00\n",
       "75%      0.000000e+00\n",
       "max      3.800000e+08\n",
       "Name: budget, dtype: float64"
      ]
     },
     "execution_count": 98,
     "metadata": {},
     "output_type": "execute_result"
    }
   ],
   "source": [
    "df.budget=df.budget.astype('int64')\n",
    "df.budget.describe()"
   ]
  },
  {
   "cell_type": "code",
   "execution_count": 99,
   "id": "4b043079",
   "metadata": {},
   "outputs": [
    {
     "data": {
      "text/plain": [
       "36573"
      ]
     },
     "execution_count": 99,
     "metadata": {},
     "output_type": "execute_result"
    }
   ],
   "source": [
    "sum(df.budget==0)"
   ]
  },
  {
   "cell_type": "code",
   "execution_count": 100,
   "id": "96e8044f",
   "metadata": {},
   "outputs": [
    {
     "data": {
      "text/plain": [
       "45463"
      ]
     },
     "execution_count": 100,
     "metadata": {},
     "output_type": "execute_result"
    }
   ],
   "source": [
    "df.shape[0]"
   ]
  },
  {
   "cell_type": "code",
   "execution_count": 101,
   "id": "a19c6289",
   "metadata": {},
   "outputs": [
    {
     "data": {
      "text/plain": [
       "80.44563711149726"
      ]
     },
     "execution_count": 101,
     "metadata": {},
     "output_type": "execute_result"
    }
   ],
   "source": [
    "sum(df.budget==0)*100/df.shape[0]"
   ]
  },
  {
   "cell_type": "code",
   "execution_count": 102,
   "id": "474bc60b",
   "metadata": {},
   "outputs": [],
   "source": [
    "#here 80% percent of my data is nan values so we should get data from other source or keep them do analysis with rest of data\n"
   ]
  },
  {
   "cell_type": "code",
   "execution_count": 103,
   "id": "b1165ced",
   "metadata": {},
   "outputs": [
    {
     "data": {
      "text/plain": [
       "\"[{'id': 16, 'name': 'Animation'}, {'id': 35, 'name': 'Comedy'}, {'id': 10751, 'name': 'Family'}]\""
      ]
     },
     "execution_count": 103,
     "metadata": {},
     "output_type": "execute_result"
    }
   ],
   "source": [
    "df.genres.values[0]"
   ]
  },
  {
   "cell_type": "code",
   "execution_count": 104,
   "id": "a49cc8a1",
   "metadata": {},
   "outputs": [],
   "source": [
    "UniqueGenres = set()\n",
    "for i in df.genres:\n",
    "    genList = ast.literal_eval(i)\n",
    "    for j in genList:\n",
    "        UniqueGenres.add(j['name'])\n",
    "      "
   ]
  },
  {
   "cell_type": "code",
   "execution_count": 105,
   "id": "2dbe9470",
   "metadata": {},
   "outputs": [
    {
     "data": {
      "text/plain": [
       "20"
      ]
     },
     "execution_count": 105,
     "metadata": {},
     "output_type": "execute_result"
    }
   ],
   "source": [
    "len(UniqueGenres)"
   ]
  },
  {
   "cell_type": "code",
   "execution_count": 106,
   "id": "9f19ebba",
   "metadata": {},
   "outputs": [],
   "source": [
    "rows = [] # for all the movies\n",
    "genres = list(UniqueGenres) # all unique Genres\n",
    "\n",
    "for i in df.genres: #looping through all the rows/movies\n",
    "  genList = ast.literal_eval(i) #converting from string to list of dict for a particular movie\n",
    "  movieGenres = [x['name'] for x in genList] # list of all the genres of the movie\n",
    "  row = [] # store a list of 1s and 0s for one movie\n",
    "  for j in genres: #loop through all unique genres\n",
    "    row.append(int(j in movieGenres)) #checking if the genre is present in that movie - if the genre is present 1 else 0\n",
    "  rows.append(row)"
   ]
  },
  {
   "cell_type": "code",
   "execution_count": 107,
   "id": "15b23ef9",
   "metadata": {},
   "outputs": [
    {
     "data": {
      "text/html": [
       "<div>\n",
       "<style scoped>\n",
       "    .dataframe tbody tr th:only-of-type {\n",
       "        vertical-align: middle;\n",
       "    }\n",
       "\n",
       "    .dataframe tbody tr th {\n",
       "        vertical-align: top;\n",
       "    }\n",
       "\n",
       "    .dataframe thead th {\n",
       "        text-align: right;\n",
       "    }\n",
       "</style>\n",
       "<table border=\"1\" class=\"dataframe\">\n",
       "  <thead>\n",
       "    <tr style=\"text-align: right;\">\n",
       "      <th></th>\n",
       "      <th>TV Movie</th>\n",
       "      <th>Romance</th>\n",
       "      <th>Adventure</th>\n",
       "      <th>Mystery</th>\n",
       "      <th>Animation</th>\n",
       "      <th>Comedy</th>\n",
       "      <th>Thriller</th>\n",
       "      <th>Family</th>\n",
       "      <th>Science Fiction</th>\n",
       "      <th>Foreign</th>\n",
       "      <th>Drama</th>\n",
       "      <th>Horror</th>\n",
       "      <th>Crime</th>\n",
       "      <th>History</th>\n",
       "      <th>Western</th>\n",
       "      <th>Fantasy</th>\n",
       "      <th>Documentary</th>\n",
       "      <th>Action</th>\n",
       "      <th>Music</th>\n",
       "      <th>War</th>\n",
       "    </tr>\n",
       "  </thead>\n",
       "  <tbody>\n",
       "    <tr>\n",
       "      <th>0</th>\n",
       "      <td>0</td>\n",
       "      <td>0</td>\n",
       "      <td>0</td>\n",
       "      <td>0</td>\n",
       "      <td>1</td>\n",
       "      <td>1</td>\n",
       "      <td>0</td>\n",
       "      <td>1</td>\n",
       "      <td>0</td>\n",
       "      <td>0</td>\n",
       "      <td>0</td>\n",
       "      <td>0</td>\n",
       "      <td>0</td>\n",
       "      <td>0</td>\n",
       "      <td>0</td>\n",
       "      <td>0</td>\n",
       "      <td>0</td>\n",
       "      <td>0</td>\n",
       "      <td>0</td>\n",
       "      <td>0</td>\n",
       "    </tr>\n",
       "    <tr>\n",
       "      <th>1</th>\n",
       "      <td>0</td>\n",
       "      <td>0</td>\n",
       "      <td>1</td>\n",
       "      <td>0</td>\n",
       "      <td>0</td>\n",
       "      <td>0</td>\n",
       "      <td>0</td>\n",
       "      <td>1</td>\n",
       "      <td>0</td>\n",
       "      <td>0</td>\n",
       "      <td>0</td>\n",
       "      <td>0</td>\n",
       "      <td>0</td>\n",
       "      <td>0</td>\n",
       "      <td>0</td>\n",
       "      <td>1</td>\n",
       "      <td>0</td>\n",
       "      <td>0</td>\n",
       "      <td>0</td>\n",
       "      <td>0</td>\n",
       "    </tr>\n",
       "    <tr>\n",
       "      <th>2</th>\n",
       "      <td>0</td>\n",
       "      <td>1</td>\n",
       "      <td>0</td>\n",
       "      <td>0</td>\n",
       "      <td>0</td>\n",
       "      <td>1</td>\n",
       "      <td>0</td>\n",
       "      <td>0</td>\n",
       "      <td>0</td>\n",
       "      <td>0</td>\n",
       "      <td>0</td>\n",
       "      <td>0</td>\n",
       "      <td>0</td>\n",
       "      <td>0</td>\n",
       "      <td>0</td>\n",
       "      <td>0</td>\n",
       "      <td>0</td>\n",
       "      <td>0</td>\n",
       "      <td>0</td>\n",
       "      <td>0</td>\n",
       "    </tr>\n",
       "    <tr>\n",
       "      <th>3</th>\n",
       "      <td>0</td>\n",
       "      <td>1</td>\n",
       "      <td>0</td>\n",
       "      <td>0</td>\n",
       "      <td>0</td>\n",
       "      <td>1</td>\n",
       "      <td>0</td>\n",
       "      <td>0</td>\n",
       "      <td>0</td>\n",
       "      <td>0</td>\n",
       "      <td>1</td>\n",
       "      <td>0</td>\n",
       "      <td>0</td>\n",
       "      <td>0</td>\n",
       "      <td>0</td>\n",
       "      <td>0</td>\n",
       "      <td>0</td>\n",
       "      <td>0</td>\n",
       "      <td>0</td>\n",
       "      <td>0</td>\n",
       "    </tr>\n",
       "    <tr>\n",
       "      <th>4</th>\n",
       "      <td>0</td>\n",
       "      <td>0</td>\n",
       "      <td>0</td>\n",
       "      <td>0</td>\n",
       "      <td>0</td>\n",
       "      <td>1</td>\n",
       "      <td>0</td>\n",
       "      <td>0</td>\n",
       "      <td>0</td>\n",
       "      <td>0</td>\n",
       "      <td>0</td>\n",
       "      <td>0</td>\n",
       "      <td>0</td>\n",
       "      <td>0</td>\n",
       "      <td>0</td>\n",
       "      <td>0</td>\n",
       "      <td>0</td>\n",
       "      <td>0</td>\n",
       "      <td>0</td>\n",
       "      <td>0</td>\n",
       "    </tr>\n",
       "    <tr>\n",
       "      <th>...</th>\n",
       "      <td>...</td>\n",
       "      <td>...</td>\n",
       "      <td>...</td>\n",
       "      <td>...</td>\n",
       "      <td>...</td>\n",
       "      <td>...</td>\n",
       "      <td>...</td>\n",
       "      <td>...</td>\n",
       "      <td>...</td>\n",
       "      <td>...</td>\n",
       "      <td>...</td>\n",
       "      <td>...</td>\n",
       "      <td>...</td>\n",
       "      <td>...</td>\n",
       "      <td>...</td>\n",
       "      <td>...</td>\n",
       "      <td>...</td>\n",
       "      <td>...</td>\n",
       "      <td>...</td>\n",
       "      <td>...</td>\n",
       "    </tr>\n",
       "    <tr>\n",
       "      <th>45458</th>\n",
       "      <td>0</td>\n",
       "      <td>0</td>\n",
       "      <td>0</td>\n",
       "      <td>0</td>\n",
       "      <td>0</td>\n",
       "      <td>0</td>\n",
       "      <td>0</td>\n",
       "      <td>1</td>\n",
       "      <td>0</td>\n",
       "      <td>0</td>\n",
       "      <td>1</td>\n",
       "      <td>0</td>\n",
       "      <td>0</td>\n",
       "      <td>0</td>\n",
       "      <td>0</td>\n",
       "      <td>0</td>\n",
       "      <td>0</td>\n",
       "      <td>0</td>\n",
       "      <td>0</td>\n",
       "      <td>0</td>\n",
       "    </tr>\n",
       "    <tr>\n",
       "      <th>45459</th>\n",
       "      <td>0</td>\n",
       "      <td>0</td>\n",
       "      <td>0</td>\n",
       "      <td>0</td>\n",
       "      <td>0</td>\n",
       "      <td>0</td>\n",
       "      <td>0</td>\n",
       "      <td>0</td>\n",
       "      <td>0</td>\n",
       "      <td>0</td>\n",
       "      <td>1</td>\n",
       "      <td>0</td>\n",
       "      <td>0</td>\n",
       "      <td>0</td>\n",
       "      <td>0</td>\n",
       "      <td>0</td>\n",
       "      <td>0</td>\n",
       "      <td>0</td>\n",
       "      <td>0</td>\n",
       "      <td>0</td>\n",
       "    </tr>\n",
       "    <tr>\n",
       "      <th>45460</th>\n",
       "      <td>0</td>\n",
       "      <td>0</td>\n",
       "      <td>0</td>\n",
       "      <td>0</td>\n",
       "      <td>0</td>\n",
       "      <td>0</td>\n",
       "      <td>1</td>\n",
       "      <td>0</td>\n",
       "      <td>0</td>\n",
       "      <td>0</td>\n",
       "      <td>1</td>\n",
       "      <td>0</td>\n",
       "      <td>0</td>\n",
       "      <td>0</td>\n",
       "      <td>0</td>\n",
       "      <td>0</td>\n",
       "      <td>0</td>\n",
       "      <td>1</td>\n",
       "      <td>0</td>\n",
       "      <td>0</td>\n",
       "    </tr>\n",
       "    <tr>\n",
       "      <th>45461</th>\n",
       "      <td>0</td>\n",
       "      <td>0</td>\n",
       "      <td>0</td>\n",
       "      <td>0</td>\n",
       "      <td>0</td>\n",
       "      <td>0</td>\n",
       "      <td>0</td>\n",
       "      <td>0</td>\n",
       "      <td>0</td>\n",
       "      <td>0</td>\n",
       "      <td>0</td>\n",
       "      <td>0</td>\n",
       "      <td>0</td>\n",
       "      <td>0</td>\n",
       "      <td>0</td>\n",
       "      <td>0</td>\n",
       "      <td>0</td>\n",
       "      <td>0</td>\n",
       "      <td>0</td>\n",
       "      <td>0</td>\n",
       "    </tr>\n",
       "    <tr>\n",
       "      <th>45462</th>\n",
       "      <td>0</td>\n",
       "      <td>0</td>\n",
       "      <td>0</td>\n",
       "      <td>0</td>\n",
       "      <td>0</td>\n",
       "      <td>0</td>\n",
       "      <td>0</td>\n",
       "      <td>0</td>\n",
       "      <td>0</td>\n",
       "      <td>0</td>\n",
       "      <td>0</td>\n",
       "      <td>0</td>\n",
       "      <td>0</td>\n",
       "      <td>0</td>\n",
       "      <td>0</td>\n",
       "      <td>0</td>\n",
       "      <td>0</td>\n",
       "      <td>0</td>\n",
       "      <td>0</td>\n",
       "      <td>0</td>\n",
       "    </tr>\n",
       "  </tbody>\n",
       "</table>\n",
       "<p>45463 rows × 20 columns</p>\n",
       "</div>"
      ],
      "text/plain": [
       "       TV Movie  Romance  Adventure  Mystery  Animation  Comedy  Thriller  \\\n",
       "0             0        0          0        0          1       1         0   \n",
       "1             0        0          1        0          0       0         0   \n",
       "2             0        1          0        0          0       1         0   \n",
       "3             0        1          0        0          0       1         0   \n",
       "4             0        0          0        0          0       1         0   \n",
       "...         ...      ...        ...      ...        ...     ...       ...   \n",
       "45458         0        0          0        0          0       0         0   \n",
       "45459         0        0          0        0          0       0         0   \n",
       "45460         0        0          0        0          0       0         1   \n",
       "45461         0        0          0        0          0       0         0   \n",
       "45462         0        0          0        0          0       0         0   \n",
       "\n",
       "       Family  Science Fiction  Foreign  Drama  Horror  Crime  History  \\\n",
       "0           1                0        0      0       0      0        0   \n",
       "1           1                0        0      0       0      0        0   \n",
       "2           0                0        0      0       0      0        0   \n",
       "3           0                0        0      1       0      0        0   \n",
       "4           0                0        0      0       0      0        0   \n",
       "...       ...              ...      ...    ...     ...    ...      ...   \n",
       "45458       1                0        0      1       0      0        0   \n",
       "45459       0                0        0      1       0      0        0   \n",
       "45460       0                0        0      1       0      0        0   \n",
       "45461       0                0        0      0       0      0        0   \n",
       "45462       0                0        0      0       0      0        0   \n",
       "\n",
       "       Western  Fantasy  Documentary  Action  Music  War  \n",
       "0            0        0            0       0      0    0  \n",
       "1            0        1            0       0      0    0  \n",
       "2            0        0            0       0      0    0  \n",
       "3            0        0            0       0      0    0  \n",
       "4            0        0            0       0      0    0  \n",
       "...        ...      ...          ...     ...    ...  ...  \n",
       "45458        0        0            0       0      0    0  \n",
       "45459        0        0            0       0      0    0  \n",
       "45460        0        0            0       1      0    0  \n",
       "45461        0        0            0       0      0    0  \n",
       "45462        0        0            0       0      0    0  \n",
       "\n",
       "[45463 rows x 20 columns]"
      ]
     },
     "execution_count": 107,
     "metadata": {},
     "output_type": "execute_result"
    }
   ],
   "source": [
    "genre = pd.DataFrame(rows,columns = genres)\n",
    "genre"
   ]
  },
  {
   "cell_type": "code",
   "execution_count": 108,
   "id": "1bf326dc",
   "metadata": {},
   "outputs": [
    {
     "data": {
      "text/plain": [
       "((45466, 44), (45463, 20))"
      ]
     },
     "execution_count": 108,
     "metadata": {},
     "output_type": "execute_result"
    }
   ],
   "source": [
    "df = pd.concat([df,genre], axis = 1) # joing the two dataframes\n",
    "df.shape, genre.shape"
   ]
  },
  {
   "cell_type": "code",
   "execution_count": 109,
   "id": "14642ca9",
   "metadata": {},
   "outputs": [],
   "source": [
    "df = df.drop(columns = ['genres'])"
   ]
  },
  {
   "cell_type": "code",
   "execution_count": 174,
   "id": "2f83a8de",
   "metadata": {},
   "outputs": [
    {
     "data": {
      "text/html": [
       "<div>\n",
       "<style scoped>\n",
       "    .dataframe tbody tr th:only-of-type {\n",
       "        vertical-align: middle;\n",
       "    }\n",
       "\n",
       "    .dataframe tbody tr th {\n",
       "        vertical-align: top;\n",
       "    }\n",
       "\n",
       "    .dataframe thead th {\n",
       "        text-align: right;\n",
       "    }\n",
       "</style>\n",
       "<table border=\"1\" class=\"dataframe\">\n",
       "  <thead>\n",
       "    <tr style=\"text-align: right;\">\n",
       "      <th></th>\n",
       "      <th>adult</th>\n",
       "      <th>budget</th>\n",
       "      <th>id</th>\n",
       "      <th>imdb_id</th>\n",
       "      <th>original_language</th>\n",
       "      <th>original_title</th>\n",
       "      <th>overview</th>\n",
       "      <th>popularity</th>\n",
       "      <th>production_countries</th>\n",
       "      <th>release_date</th>\n",
       "      <th>...</th>\n",
       "      <th>History</th>\n",
       "      <th>Western</th>\n",
       "      <th>Fantasy</th>\n",
       "      <th>Documentary</th>\n",
       "      <th>Action</th>\n",
       "      <th>Music</th>\n",
       "      <th>War</th>\n",
       "      <th>homepagepresent</th>\n",
       "      <th>Producer1</th>\n",
       "      <th>Producer2</th>\n",
       "    </tr>\n",
       "  </thead>\n",
       "  <tbody>\n",
       "    <tr>\n",
       "      <th>45461</th>\n",
       "      <td>False</td>\n",
       "      <td>0.0</td>\n",
       "      <td>439050</td>\n",
       "      <td>tt6209470</td>\n",
       "      <td>fa</td>\n",
       "      <td>رگ خواب</td>\n",
       "      <td>rising and falling between a man and woman.</td>\n",
       "      <td>0.072051</td>\n",
       "      <td>[{'iso_3166_1': 'IR', 'name': 'Iran'}]</td>\n",
       "      <td>NaN</td>\n",
       "      <td>...</td>\n",
       "      <td>0.0</td>\n",
       "      <td>0.0</td>\n",
       "      <td>0.0</td>\n",
       "      <td>0.0</td>\n",
       "      <td>0.0</td>\n",
       "      <td>0.0</td>\n",
       "      <td>0.0</td>\n",
       "      <td>1</td>\n",
       "      <td>No Producer</td>\n",
       "      <td>No Producer</td>\n",
       "    </tr>\n",
       "    <tr>\n",
       "      <th>45462</th>\n",
       "      <td>False</td>\n",
       "      <td>0.0</td>\n",
       "      <td>111109</td>\n",
       "      <td>tt2028550</td>\n",
       "      <td>tl</td>\n",
       "      <td>siglo ng pagluluwal</td>\n",
       "      <td>an artist struggles to finish his work while a...</td>\n",
       "      <td>0.178241</td>\n",
       "      <td>[{'iso_3166_1': 'PH', 'name': 'Philippines'}]</td>\n",
       "      <td>2011-11-17</td>\n",
       "      <td>...</td>\n",
       "      <td>0.0</td>\n",
       "      <td>0.0</td>\n",
       "      <td>0.0</td>\n",
       "      <td>0.0</td>\n",
       "      <td>0.0</td>\n",
       "      <td>0.0</td>\n",
       "      <td>0.0</td>\n",
       "      <td>0</td>\n",
       "      <td>Sine Olivia</td>\n",
       "      <td>No Producer</td>\n",
       "    </tr>\n",
       "    <tr>\n",
       "      <th>45463</th>\n",
       "      <td>False</td>\n",
       "      <td>0.0</td>\n",
       "      <td>67758</td>\n",
       "      <td>tt0303758</td>\n",
       "      <td>en</td>\n",
       "      <td>betrayal</td>\n",
       "      <td>when one of her hits goes wrong, a professiona...</td>\n",
       "      <td>0.903007</td>\n",
       "      <td>[{'iso_3166_1': 'US', 'name': 'United States o...</td>\n",
       "      <td>2003-08-01</td>\n",
       "      <td>...</td>\n",
       "      <td>NaN</td>\n",
       "      <td>NaN</td>\n",
       "      <td>NaN</td>\n",
       "      <td>NaN</td>\n",
       "      <td>NaN</td>\n",
       "      <td>NaN</td>\n",
       "      <td>NaN</td>\n",
       "      <td>0</td>\n",
       "      <td>American World Pictures</td>\n",
       "      <td>No Producer</td>\n",
       "    </tr>\n",
       "    <tr>\n",
       "      <th>45464</th>\n",
       "      <td>False</td>\n",
       "      <td>0.0</td>\n",
       "      <td>227506</td>\n",
       "      <td>tt0008536</td>\n",
       "      <td>en</td>\n",
       "      <td>satana likuyushchiy</td>\n",
       "      <td>in a small town live two brothers, one a minis...</td>\n",
       "      <td>0.003503</td>\n",
       "      <td>[{'iso_3166_1': 'RU', 'name': 'Russia'}]</td>\n",
       "      <td>1917-10-21</td>\n",
       "      <td>...</td>\n",
       "      <td>NaN</td>\n",
       "      <td>NaN</td>\n",
       "      <td>NaN</td>\n",
       "      <td>NaN</td>\n",
       "      <td>NaN</td>\n",
       "      <td>NaN</td>\n",
       "      <td>NaN</td>\n",
       "      <td>0</td>\n",
       "      <td>Yermoliev</td>\n",
       "      <td>No Producer</td>\n",
       "    </tr>\n",
       "    <tr>\n",
       "      <th>45465</th>\n",
       "      <td>False</td>\n",
       "      <td>0.0</td>\n",
       "      <td>461257</td>\n",
       "      <td>tt6980792</td>\n",
       "      <td>en</td>\n",
       "      <td>queerama</td>\n",
       "      <td>50 years after decriminalisation of homosexual...</td>\n",
       "      <td>0.163015</td>\n",
       "      <td>[{'iso_3166_1': 'GB', 'name': 'United Kingdom'}]</td>\n",
       "      <td>2017-06-09</td>\n",
       "      <td>...</td>\n",
       "      <td>NaN</td>\n",
       "      <td>NaN</td>\n",
       "      <td>NaN</td>\n",
       "      <td>NaN</td>\n",
       "      <td>NaN</td>\n",
       "      <td>NaN</td>\n",
       "      <td>NaN</td>\n",
       "      <td>0</td>\n",
       "      <td>No Producer</td>\n",
       "      <td>No Producer</td>\n",
       "    </tr>\n",
       "  </tbody>\n",
       "</table>\n",
       "<p>5 rows × 42 columns</p>\n",
       "</div>"
      ],
      "text/plain": [
       "       adult  budget      id    imdb_id original_language  \\\n",
       "45461  False     0.0  439050  tt6209470                fa   \n",
       "45462  False     0.0  111109  tt2028550                tl   \n",
       "45463  False     0.0   67758  tt0303758                en   \n",
       "45464  False     0.0  227506  tt0008536                en   \n",
       "45465  False     0.0  461257  tt6980792                en   \n",
       "\n",
       "            original_title                                           overview  \\\n",
       "45461              رگ خواب        rising and falling between a man and woman.   \n",
       "45462  siglo ng pagluluwal  an artist struggles to finish his work while a...   \n",
       "45463             betrayal  when one of her hits goes wrong, a professiona...   \n",
       "45464  satana likuyushchiy  in a small town live two brothers, one a minis...   \n",
       "45465             queerama  50 years after decriminalisation of homosexual...   \n",
       "\n",
       "       popularity                               production_countries  \\\n",
       "45461    0.072051             [{'iso_3166_1': 'IR', 'name': 'Iran'}]   \n",
       "45462    0.178241      [{'iso_3166_1': 'PH', 'name': 'Philippines'}]   \n",
       "45463    0.903007  [{'iso_3166_1': 'US', 'name': 'United States o...   \n",
       "45464    0.003503           [{'iso_3166_1': 'RU', 'name': 'Russia'}]   \n",
       "45465    0.163015   [{'iso_3166_1': 'GB', 'name': 'United Kingdom'}]   \n",
       "\n",
       "      release_date  ...  History  Western Fantasy Documentary Action Music  \\\n",
       "45461          NaN  ...      0.0      0.0     0.0         0.0    0.0   0.0   \n",
       "45462   2011-11-17  ...      0.0      0.0     0.0         0.0    0.0   0.0   \n",
       "45463   2003-08-01  ...      NaN      NaN     NaN         NaN    NaN   NaN   \n",
       "45464   1917-10-21  ...      NaN      NaN     NaN         NaN    NaN   NaN   \n",
       "45465   2017-06-09  ...      NaN      NaN     NaN         NaN    NaN   NaN   \n",
       "\n",
       "       War  homepagepresent                Producer1    Producer2  \n",
       "45461  0.0                1              No Producer  No Producer  \n",
       "45462  0.0                0              Sine Olivia  No Producer  \n",
       "45463  NaN                0  American World Pictures  No Producer  \n",
       "45464  NaN                0                Yermoliev  No Producer  \n",
       "45465  NaN                0              No Producer  No Producer  \n",
       "\n",
       "[5 rows x 42 columns]"
      ]
     },
     "execution_count": 174,
     "metadata": {},
     "output_type": "execute_result"
    }
   ],
   "source": [
    "df.tail(5)"
   ]
  },
  {
   "cell_type": "code",
   "execution_count": 110,
   "id": "46d3686d",
   "metadata": {},
   "outputs": [
    {
     "data": {
      "text/plain": [
       "0         True\n",
       "1        False\n",
       "2        False\n",
       "3        False\n",
       "4        False\n",
       "         ...  \n",
       "45464    False\n",
       "45465    False\n",
       "19730    False\n",
       "29503    False\n",
       "35587    False\n",
       "Name: homepage, Length: 45466, dtype: bool"
      ]
     },
     "execution_count": 110,
     "metadata": {},
     "output_type": "execute_result"
    }
   ],
   "source": [
    "~df.homepage.isnull()"
   ]
  },
  {
   "cell_type": "code",
   "execution_count": null,
   "id": "2105f831",
   "metadata": {},
   "outputs": [],
   "source": []
  },
  {
   "cell_type": "code",
   "execution_count": 111,
   "id": "fc50b4ce",
   "metadata": {},
   "outputs": [],
   "source": [
    "df['homepagepresent']=~df.homepage.isnull()"
   ]
  },
  {
   "cell_type": "code",
   "execution_count": 112,
   "id": "c3cdf4b9",
   "metadata": {},
   "outputs": [
    {
     "data": {
      "text/plain": [
       "0         True\n",
       "1        False\n",
       "2        False\n",
       "3        False\n",
       "4        False\n",
       "         ...  \n",
       "45464    False\n",
       "45465    False\n",
       "19730    False\n",
       "29503    False\n",
       "35587    False\n",
       "Name: homepagepresent, Length: 45466, dtype: bool"
      ]
     },
     "execution_count": 112,
     "metadata": {},
     "output_type": "execute_result"
    }
   ],
   "source": [
    "df.homepagepresent"
   ]
  },
  {
   "cell_type": "code",
   "execution_count": 113,
   "id": "5413a2b8",
   "metadata": {},
   "outputs": [],
   "source": [
    "df = df.drop(columns = ['homepage'])"
   ]
  },
  {
   "cell_type": "code",
   "execution_count": 114,
   "id": "d174c605",
   "metadata": {},
   "outputs": [],
   "source": [
    "df.homepagepresent=df.homepagepresent.map({True:1,False:0})"
   ]
  },
  {
   "cell_type": "code",
   "execution_count": 115,
   "id": "b123c275",
   "metadata": {},
   "outputs": [
    {
     "data": {
      "text/plain": [
       "0        1\n",
       "1        0\n",
       "2        0\n",
       "3        0\n",
       "4        0\n",
       "        ..\n",
       "45464    0\n",
       "45465    0\n",
       "19730    0\n",
       "29503    0\n",
       "35587    0\n",
       "Name: homepagepresent, Length: 45466, dtype: int64"
      ]
     },
     "execution_count": 115,
     "metadata": {},
     "output_type": "execute_result"
    }
   ],
   "source": [
    "df.homepagepresent"
   ]
  },
  {
   "cell_type": "code",
   "execution_count": 116,
   "id": "4234478c",
   "metadata": {},
   "outputs": [
    {
     "data": {
      "text/plain": [
       "32"
      ]
     },
     "execution_count": 116,
     "metadata": {},
     "output_type": "execute_result"
    }
   ],
   "source": [
    "(df.shape[0] - len(df.id.unique())) #difference between movies and unique ids\n"
   ]
  },
  {
   "cell_type": "code",
   "execution_count": 117,
   "id": "6cf43c9a",
   "metadata": {},
   "outputs": [
    {
     "data": {
      "text/plain": [
       "(45434, 43)"
      ]
     },
     "execution_count": 117,
     "metadata": {},
     "output_type": "execute_result"
    }
   ],
   "source": [
    "df = df.drop_duplicates(subset = 'id') # delete the rows which has id column to be the same\n",
    "df.shape"
   ]
  },
  {
   "cell_type": "code",
   "execution_count": 118,
   "id": "baef7c4c",
   "metadata": {},
   "outputs": [
    {
     "data": {
      "text/plain": [
       "'862'"
      ]
     },
     "execution_count": 118,
     "metadata": {},
     "output_type": "execute_result"
    }
   ],
   "source": [
    "df.id.values[0]"
   ]
  },
  {
   "cell_type": "code",
   "execution_count": 119,
   "id": "6c62b6f4",
   "metadata": {},
   "outputs": [],
   "source": [
    "df = df.dropna(subset = ['id'] )"
   ]
  },
  {
   "cell_type": "code",
   "execution_count": 120,
   "id": "7ff6077d",
   "metadata": {},
   "outputs": [],
   "source": [
    "df.id = df.id.astype('int64')"
   ]
  },
  {
   "cell_type": "code",
   "execution_count": 121,
   "id": "76abdb0b",
   "metadata": {},
   "outputs": [
    {
     "data": {
      "text/plain": [
       "16"
      ]
     },
     "execution_count": 121,
     "metadata": {},
     "output_type": "execute_result"
    }
   ],
   "source": [
    "(df.shape[0] - len(df.imdb_id.unique()))"
   ]
  },
  {
   "cell_type": "code",
   "execution_count": 122,
   "id": "94d8a921",
   "metadata": {},
   "outputs": [],
   "source": [
    "df = df.drop_duplicates(subset = 'imdb_id')"
   ]
  },
  {
   "cell_type": "code",
   "execution_count": 123,
   "id": "cc35d513",
   "metadata": {},
   "outputs": [
    {
     "data": {
      "text/plain": [
       "(45417, 43)"
      ]
     },
     "execution_count": 123,
     "metadata": {},
     "output_type": "execute_result"
    }
   ],
   "source": [
    "df.shape"
   ]
  },
  {
   "cell_type": "code",
   "execution_count": 124,
   "id": "48eb002a",
   "metadata": {},
   "outputs": [
    {
     "data": {
      "text/plain": [
       "array(['tt0114709', 'tt0113497', 'tt0113228', ..., 'tt0303758',\n",
       "       'tt0008536', 'tt6980792'], dtype=object)"
      ]
     },
     "execution_count": 124,
     "metadata": {},
     "output_type": "execute_result"
    }
   ],
   "source": [
    "df.imdb_id.unique()"
   ]
  },
  {
   "cell_type": "code",
   "execution_count": 125,
   "id": "d614e69d",
   "metadata": {},
   "outputs": [
    {
     "data": {
      "text/plain": [
       "'en'"
      ]
     },
     "execution_count": 125,
     "metadata": {},
     "output_type": "execute_result"
    }
   ],
   "source": [
    "df.original_language.values[0]\n"
   ]
  },
  {
   "cell_type": "code",
   "execution_count": 126,
   "id": "60a14bd9",
   "metadata": {},
   "outputs": [
    {
     "data": {
      "text/plain": [
       "90"
      ]
     },
     "execution_count": 126,
     "metadata": {},
     "output_type": "execute_result"
    }
   ],
   "source": [
    "len(df.original_language.unique())"
   ]
  },
  {
   "cell_type": "code",
   "execution_count": 127,
   "id": "0940f42b",
   "metadata": {},
   "outputs": [
    {
     "data": {
      "text/plain": [
       "en    32239\n",
       "fr     2435\n",
       "it     1529\n",
       "ja     1346\n",
       "de     1079\n",
       "      ...  \n",
       "ay        1\n",
       "rw        1\n",
       "cy        1\n",
       "tg        1\n",
       "si        1\n",
       "Name: original_language, Length: 89, dtype: int64"
      ]
     },
     "execution_count": 127,
     "metadata": {},
     "output_type": "execute_result"
    }
   ],
   "source": [
    "df.original_language.value_counts()"
   ]
  },
  {
   "cell_type": "code",
   "execution_count": 128,
   "id": "94b89f28",
   "metadata": {},
   "outputs": [
    {
     "data": {
      "text/plain": [
       "11"
      ]
     },
     "execution_count": 128,
     "metadata": {},
     "output_type": "execute_result"
    }
   ],
   "source": [
    "df.original_language.isnull().sum()"
   ]
  },
  {
   "cell_type": "code",
   "execution_count": 129,
   "id": "2503a3c4",
   "metadata": {},
   "outputs": [],
   "source": [
    "df['original_language'] = df.original_language.fillna('mode')"
   ]
  },
  {
   "cell_type": "code",
   "execution_count": 130,
   "id": "06a2c7f0",
   "metadata": {},
   "outputs": [
    {
     "data": {
      "text/plain": [
       "(3, 93.05986745051412)"
      ]
     },
     "execution_count": 130,
     "metadata": {},
     "output_type": "execute_result"
    }
   ],
   "source": [
    "# we have title and orginal_title coloumn comparing this to which have high value we keep that drop other one\n",
    "df.title.isnull().sum(), len(df.title.unique())*100/df.shape[0]"
   ]
  },
  {
   "cell_type": "code",
   "execution_count": 131,
   "id": "ab9886b2",
   "metadata": {},
   "outputs": [
    {
     "data": {
      "text/plain": [
       "(0, 95.464253473369)"
      ]
     },
     "execution_count": 131,
     "metadata": {},
     "output_type": "execute_result"
    }
   ],
   "source": [
    "df.original_title.isnull().sum(), len(df.original_title.unique())*100/df.shape[0]"
   ]
  },
  {
   "cell_type": "code",
   "execution_count": 132,
   "id": "e884ab07",
   "metadata": {},
   "outputs": [
    {
     "data": {
      "text/plain": [
       "'Toy Story'"
      ]
     },
     "execution_count": 132,
     "metadata": {},
     "output_type": "execute_result"
    }
   ],
   "source": [
    "df.title.values[0]"
   ]
  },
  {
   "cell_type": "code",
   "execution_count": 133,
   "id": "f1d84ea7",
   "metadata": {},
   "outputs": [],
   "source": [
    "df = df.drop(columns = ['title'])"
   ]
  },
  {
   "cell_type": "code",
   "execution_count": 134,
   "id": "2cb7a07a",
   "metadata": {},
   "outputs": [],
   "source": [
    "df.original_title = df['original_title'].str.lower() # brief the text data to lowercase\n",
    "df.original_title = df['original_title'].str.strip() # delete unwanted whitespaces"
   ]
  },
  {
   "cell_type": "code",
   "execution_count": 135,
   "id": "bd2af505",
   "metadata": {},
   "outputs": [
    {
     "data": {
      "text/plain": [
       "\"Led by Woody, Andy's toys live happily in his room until Andy's birthday brings Buzz Lightyear onto the scene. Afraid of losing his place in Andy's heart, Woody plots against Buzz. But when circumstances separate Buzz and Woody from their owner, the duo eventually learns to put aside their differences.\""
      ]
     },
     "execution_count": 135,
     "metadata": {},
     "output_type": "execute_result"
    }
   ],
   "source": [
    "df.overview[0]"
   ]
  },
  {
   "cell_type": "code",
   "execution_count": 136,
   "id": "977dc20d",
   "metadata": {},
   "outputs": [],
   "source": [
    "df.overview=df.overview.str.lower()\n",
    "df.overview=df.overview.str.strip()"
   ]
  },
  {
   "cell_type": "code",
   "execution_count": 137,
   "id": "cc1f3d20",
   "metadata": {},
   "outputs": [
    {
     "data": {
      "text/plain": [
       "0        led by woody, andy's toys live happily in his ...\n",
       "1        when siblings judy and peter discover an encha...\n",
       "2        a family wedding reignites the ancient feud be...\n",
       "3        cheated on, mistreated and stepped on, the wom...\n",
       "4        just when george banks has recovered from his ...\n",
       "                               ...                        \n",
       "45461          rising and falling between a man and woman.\n",
       "45462    an artist struggles to finish his work while a...\n",
       "45463    when one of her hits goes wrong, a professiona...\n",
       "45464    in a small town live two brothers, one a minis...\n",
       "45465    50 years after decriminalisation of homosexual...\n",
       "Name: overview, Length: 45417, dtype: object"
      ]
     },
     "execution_count": 137,
     "metadata": {},
     "output_type": "execute_result"
    }
   ],
   "source": [
    "df.overview"
   ]
  },
  {
   "cell_type": "code",
   "execution_count": 138,
   "id": "c73b4930",
   "metadata": {},
   "outputs": [
    {
     "data": {
      "text/plain": [
       "952"
      ]
     },
     "execution_count": 138,
     "metadata": {},
     "output_type": "execute_result"
    }
   ],
   "source": [
    "df.overview.isnull().sum()"
   ]
  },
  {
   "cell_type": "code",
   "execution_count": 139,
   "id": "bebcfe58",
   "metadata": {},
   "outputs": [],
   "source": [
    "df.loc[df.overview.isnull(),'overview'] = 'no overview available'"
   ]
  },
  {
   "cell_type": "code",
   "execution_count": 140,
   "id": "a6491789",
   "metadata": {},
   "outputs": [
    {
     "data": {
      "text/plain": [
       "21.946943"
      ]
     },
     "execution_count": 140,
     "metadata": {},
     "output_type": "execute_result"
    }
   ],
   "source": [
    "df.popularity.values[0]"
   ]
  },
  {
   "cell_type": "code",
   "execution_count": 141,
   "id": "69425c96",
   "metadata": {},
   "outputs": [
    {
     "data": {
      "text/plain": [
       "dtype('O')"
      ]
     },
     "execution_count": 141,
     "metadata": {},
     "output_type": "execute_result"
    }
   ],
   "source": [
    "df.popularity.dtype"
   ]
  },
  {
   "cell_type": "code",
   "execution_count": 142,
   "id": "c7d3f6df",
   "metadata": {},
   "outputs": [],
   "source": [
    "df.popularity=df.popularity.astype('float64')"
   ]
  },
  {
   "cell_type": "code",
   "execution_count": 143,
   "id": "ed46df3e",
   "metadata": {},
   "outputs": [
    {
     "data": {
      "text/plain": [
       "count    45414.000000\n",
       "mean         2.921932\n",
       "std          6.007588\n",
       "min          0.000000\n",
       "25%          0.386107\n",
       "50%          1.127685\n",
       "75%          3.679143\n",
       "max        547.488298\n",
       "Name: popularity, dtype: float64"
      ]
     },
     "execution_count": 143,
     "metadata": {},
     "output_type": "execute_result"
    }
   ],
   "source": [
    "df.popularity.describe()"
   ]
  },
  {
   "cell_type": "code",
   "execution_count": 144,
   "id": "25c6ec06",
   "metadata": {},
   "outputs": [],
   "source": [
    "q3 = df.popularity.quantile(0.75)\n",
    "q1 = df.popularity.quantile(0.25)\n",
    "iqr = q3 - q1 "
   ]
  },
  {
   "cell_type": "code",
   "execution_count": 145,
   "id": "57e27cff",
   "metadata": {},
   "outputs": [
    {
     "data": {
      "text/plain": [
       "-4.553446"
      ]
     },
     "execution_count": 145,
     "metadata": {},
     "output_type": "execute_result"
    }
   ],
   "source": [
    "\n",
    "q1 - (1.5*iqr)"
   ]
  },
  {
   "cell_type": "code",
   "execution_count": 146,
   "id": "45f112a0",
   "metadata": {},
   "outputs": [
    {
     "data": {
      "text/plain": [
       "8.618696"
      ]
     },
     "execution_count": 146,
     "metadata": {},
     "output_type": "execute_result"
    }
   ],
   "source": [
    "q3 + (1.5 * iqr)"
   ]
  },
  {
   "cell_type": "code",
   "execution_count": 147,
   "id": "949e56dc",
   "metadata": {},
   "outputs": [],
   "source": [
    "df.popularity = df.popularity.clip(-4.55,8.62) #.clip s used to clip bring the data within threshold  (lt,ut)"
   ]
  },
  {
   "cell_type": "code",
   "execution_count": 148,
   "id": "7fcf7134",
   "metadata": {},
   "outputs": [
    {
     "data": {
      "text/plain": [
       "count    45414.000000\n",
       "mean         2.459170\n",
       "std          2.831027\n",
       "min          0.000000\n",
       "25%          0.386107\n",
       "50%          1.127685\n",
       "75%          3.679143\n",
       "max          8.620000\n",
       "Name: popularity, dtype: float64"
      ]
     },
     "execution_count": 148,
     "metadata": {},
     "output_type": "execute_result"
    }
   ],
   "source": [
    "df.popularity.describe()"
   ]
  },
  {
   "cell_type": "code",
   "execution_count": 149,
   "id": "e313f35c",
   "metadata": {},
   "outputs": [
    {
     "data": {
      "text/plain": [
       "3"
      ]
     },
     "execution_count": 149,
     "metadata": {},
     "output_type": "execute_result"
    }
   ],
   "source": [
    "df.popularity.isnull().sum()"
   ]
  },
  {
   "cell_type": "code",
   "execution_count": 150,
   "id": "1a69cefe",
   "metadata": {},
   "outputs": [],
   "source": [
    "df = df.dropna(subset = ['popularity'])"
   ]
  },
  {
   "cell_type": "code",
   "execution_count": 151,
   "id": "741e5dd1",
   "metadata": {},
   "outputs": [
    {
     "data": {
      "text/plain": [
       "0"
      ]
     },
     "execution_count": 151,
     "metadata": {},
     "output_type": "execute_result"
    }
   ],
   "source": [
    " df.popularity.isnull().sum()"
   ]
  },
  {
   "cell_type": "code",
   "execution_count": 152,
   "id": "8952ca95",
   "metadata": {},
   "outputs": [
    {
     "data": {
      "text/plain": [
       "5415.0"
      ]
     },
     "execution_count": 152,
     "metadata": {},
     "output_type": "execute_result"
    }
   ],
   "source": [
    "df.vote_count.values[0] #the output shows as float value we should change to intger"
   ]
  },
  {
   "cell_type": "code",
   "execution_count": 153,
   "id": "8021afeb",
   "metadata": {},
   "outputs": [],
   "source": [
    "df.vote_count =df.vote_count.astype('int64')"
   ]
  },
  {
   "cell_type": "code",
   "execution_count": 154,
   "id": "bb0583d4",
   "metadata": {},
   "outputs": [
    {
     "data": {
      "text/plain": [
       "0"
      ]
     },
     "execution_count": 154,
     "metadata": {},
     "output_type": "execute_result"
    }
   ],
   "source": [
    "df.vote_count.isnull().sum()"
   ]
  },
  {
   "cell_type": "code",
   "execution_count": 155,
   "id": "9708cedb",
   "metadata": {},
   "outputs": [
    {
     "data": {
      "text/plain": [
       "count    45414.000000\n",
       "mean       109.971837\n",
       "std        491.549122\n",
       "min          0.000000\n",
       "25%          3.000000\n",
       "50%         10.000000\n",
       "75%         34.000000\n",
       "max      14075.000000\n",
       "Name: vote_count, dtype: float64"
      ]
     },
     "execution_count": 155,
     "metadata": {},
     "output_type": "execute_result"
    }
   ],
   "source": [
    "df.vote_count.describe()"
   ]
  },
  {
   "cell_type": "code",
   "execution_count": 156,
   "id": "543677c9",
   "metadata": {},
   "outputs": [
    {
     "data": {
      "text/plain": [
       "7.7"
      ]
     },
     "execution_count": 156,
     "metadata": {},
     "output_type": "execute_result"
    }
   ],
   "source": [
    "df.vote_average.values[0]"
   ]
  },
  {
   "cell_type": "code",
   "execution_count": 157,
   "id": "169413bc",
   "metadata": {},
   "outputs": [
    {
     "data": {
      "text/plain": [
       "dtype('float64')"
      ]
     },
     "execution_count": 157,
     "metadata": {},
     "output_type": "execute_result"
    }
   ],
   "source": [
    "df.vote_average.dtype"
   ]
  },
  {
   "cell_type": "code",
   "execution_count": 160,
   "id": "3243f813",
   "metadata": {},
   "outputs": [
    {
     "data": {
      "text/plain": [
       "0"
      ]
     },
     "execution_count": 160,
     "metadata": {},
     "output_type": "execute_result"
    }
   ],
   "source": [
    "df.vote_average.isnull().sum()"
   ]
  },
  {
   "cell_type": "code",
   "execution_count": 161,
   "id": "e26d9e8a",
   "metadata": {},
   "outputs": [
    {
     "data": {
      "text/plain": [
       "count    45414.000000\n",
       "mean         5.618864\n",
       "std          1.923210\n",
       "min          0.000000\n",
       "25%          5.000000\n",
       "50%          6.000000\n",
       "75%          6.800000\n",
       "max         10.000000\n",
       "Name: vote_average, dtype: float64"
      ]
     },
     "execution_count": 161,
     "metadata": {},
     "output_type": "execute_result"
    }
   ],
   "source": [
    "df.vote_average.describe()"
   ]
  },
  {
   "cell_type": "code",
   "execution_count": 163,
   "id": "2465b018",
   "metadata": {},
   "outputs": [],
   "source": [
    "df=df.drop(columns=['poster_path'])"
   ]
  },
  {
   "cell_type": "code",
   "execution_count": 164,
   "id": "c0ea569b",
   "metadata": {},
   "outputs": [
    {
     "data": {
      "text/plain": [
       "0"
      ]
     },
     "execution_count": 164,
     "metadata": {},
     "output_type": "execute_result"
    }
   ],
   "source": [
    "df.production_companies.isnull().sum()"
   ]
  },
  {
   "cell_type": "code",
   "execution_count": 165,
   "id": "893dcd80",
   "metadata": {},
   "outputs": [
    {
     "data": {
      "text/plain": [
       "\"[{'name': 'Pixar Animation Studios', 'id': 3}]\""
      ]
     },
     "execution_count": 165,
     "metadata": {},
     "output_type": "execute_result"
    }
   ],
   "source": [
    "df.production_companies.values[0]"
   ]
  },
  {
   "cell_type": "code",
   "execution_count": 170,
   "id": "759acfe3",
   "metadata": {},
   "outputs": [],
   "source": [
    "index=0\n",
    "production1=[]\n",
    "for a in df.production_companies.values:\n",
    "    prodList = ast.literal_eval(a)\n",
    "    if len(prodList) > index:\n",
    "        production1.append(prodList[index]['name'])\n",
    "    else:\n",
    "        production1.append('No Producer')\n",
    "        \n",
    "   \n",
    "\n",
    "df['Producer1'] = production1"
   ]
  },
  {
   "cell_type": "code",
   "execution_count": 171,
   "id": "35eef2e4",
   "metadata": {},
   "outputs": [],
   "source": [
    "index=1\n",
    "production2=[]\n",
    "for a in df.production_companies.values:\n",
    "    prodList = ast.literal_eval(a)\n",
    "    if len(prodList) > index:\n",
    "        production2.append(prodList[index]['name'])\n",
    "    else:\n",
    "        production2.append('No Producer')\n",
    "        \n",
    "   \n",
    "\n",
    "df['Producer2'] = production2"
   ]
  },
  {
   "cell_type": "code",
   "execution_count": 172,
   "id": "6fb80ae2",
   "metadata": {},
   "outputs": [],
   "source": [
    "df = df.drop(columns = ['production_companies'])"
   ]
  },
  {
   "cell_type": "code",
   "execution_count": 173,
   "id": "22602583",
   "metadata": {},
   "outputs": [
    {
     "data": {
      "text/html": [
       "<div>\n",
       "<style scoped>\n",
       "    .dataframe tbody tr th:only-of-type {\n",
       "        vertical-align: middle;\n",
       "    }\n",
       "\n",
       "    .dataframe tbody tr th {\n",
       "        vertical-align: top;\n",
       "    }\n",
       "\n",
       "    .dataframe thead th {\n",
       "        text-align: right;\n",
       "    }\n",
       "</style>\n",
       "<table border=\"1\" class=\"dataframe\">\n",
       "  <thead>\n",
       "    <tr style=\"text-align: right;\">\n",
       "      <th></th>\n",
       "      <th>adult</th>\n",
       "      <th>budget</th>\n",
       "      <th>id</th>\n",
       "      <th>imdb_id</th>\n",
       "      <th>original_language</th>\n",
       "      <th>original_title</th>\n",
       "      <th>overview</th>\n",
       "      <th>popularity</th>\n",
       "      <th>production_countries</th>\n",
       "      <th>release_date</th>\n",
       "      <th>...</th>\n",
       "      <th>History</th>\n",
       "      <th>Western</th>\n",
       "      <th>Fantasy</th>\n",
       "      <th>Documentary</th>\n",
       "      <th>Action</th>\n",
       "      <th>Music</th>\n",
       "      <th>War</th>\n",
       "      <th>homepagepresent</th>\n",
       "      <th>Producer1</th>\n",
       "      <th>Producer2</th>\n",
       "    </tr>\n",
       "  </thead>\n",
       "  <tbody>\n",
       "    <tr>\n",
       "      <th>0</th>\n",
       "      <td>False</td>\n",
       "      <td>30000000.0</td>\n",
       "      <td>862</td>\n",
       "      <td>tt0114709</td>\n",
       "      <td>en</td>\n",
       "      <td>toy story</td>\n",
       "      <td>led by woody, andy's toys live happily in his ...</td>\n",
       "      <td>8.620000</td>\n",
       "      <td>[{'iso_3166_1': 'US', 'name': 'United States o...</td>\n",
       "      <td>1995-10-30</td>\n",
       "      <td>...</td>\n",
       "      <td>0.0</td>\n",
       "      <td>0.0</td>\n",
       "      <td>0.0</td>\n",
       "      <td>0.0</td>\n",
       "      <td>0.0</td>\n",
       "      <td>0.0</td>\n",
       "      <td>0.0</td>\n",
       "      <td>1</td>\n",
       "      <td>Pixar Animation Studios</td>\n",
       "      <td>No Producer</td>\n",
       "    </tr>\n",
       "    <tr>\n",
       "      <th>1</th>\n",
       "      <td>False</td>\n",
       "      <td>65000000.0</td>\n",
       "      <td>8844</td>\n",
       "      <td>tt0113497</td>\n",
       "      <td>en</td>\n",
       "      <td>jumanji</td>\n",
       "      <td>when siblings judy and peter discover an encha...</td>\n",
       "      <td>8.620000</td>\n",
       "      <td>[{'iso_3166_1': 'US', 'name': 'United States o...</td>\n",
       "      <td>1995-12-15</td>\n",
       "      <td>...</td>\n",
       "      <td>0.0</td>\n",
       "      <td>0.0</td>\n",
       "      <td>1.0</td>\n",
       "      <td>0.0</td>\n",
       "      <td>0.0</td>\n",
       "      <td>0.0</td>\n",
       "      <td>0.0</td>\n",
       "      <td>0</td>\n",
       "      <td>TriStar Pictures</td>\n",
       "      <td>Teitler Film</td>\n",
       "    </tr>\n",
       "    <tr>\n",
       "      <th>2</th>\n",
       "      <td>False</td>\n",
       "      <td>0.0</td>\n",
       "      <td>15602</td>\n",
       "      <td>tt0113228</td>\n",
       "      <td>en</td>\n",
       "      <td>grumpier old men</td>\n",
       "      <td>a family wedding reignites the ancient feud be...</td>\n",
       "      <td>8.620000</td>\n",
       "      <td>[{'iso_3166_1': 'US', 'name': 'United States o...</td>\n",
       "      <td>1995-12-22</td>\n",
       "      <td>...</td>\n",
       "      <td>0.0</td>\n",
       "      <td>0.0</td>\n",
       "      <td>0.0</td>\n",
       "      <td>0.0</td>\n",
       "      <td>0.0</td>\n",
       "      <td>0.0</td>\n",
       "      <td>0.0</td>\n",
       "      <td>0</td>\n",
       "      <td>Warner Bros.</td>\n",
       "      <td>Lancaster Gate</td>\n",
       "    </tr>\n",
       "    <tr>\n",
       "      <th>3</th>\n",
       "      <td>False</td>\n",
       "      <td>16000000.0</td>\n",
       "      <td>31357</td>\n",
       "      <td>tt0114885</td>\n",
       "      <td>en</td>\n",
       "      <td>waiting to exhale</td>\n",
       "      <td>cheated on, mistreated and stepped on, the wom...</td>\n",
       "      <td>3.859495</td>\n",
       "      <td>[{'iso_3166_1': 'US', 'name': 'United States o...</td>\n",
       "      <td>1995-12-22</td>\n",
       "      <td>...</td>\n",
       "      <td>0.0</td>\n",
       "      <td>0.0</td>\n",
       "      <td>0.0</td>\n",
       "      <td>0.0</td>\n",
       "      <td>0.0</td>\n",
       "      <td>0.0</td>\n",
       "      <td>0.0</td>\n",
       "      <td>0</td>\n",
       "      <td>Twentieth Century Fox Film Corporation</td>\n",
       "      <td>No Producer</td>\n",
       "    </tr>\n",
       "    <tr>\n",
       "      <th>4</th>\n",
       "      <td>False</td>\n",
       "      <td>0.0</td>\n",
       "      <td>11862</td>\n",
       "      <td>tt0113041</td>\n",
       "      <td>en</td>\n",
       "      <td>father of the bride part ii</td>\n",
       "      <td>just when george banks has recovered from his ...</td>\n",
       "      <td>8.387519</td>\n",
       "      <td>[{'iso_3166_1': 'US', 'name': 'United States o...</td>\n",
       "      <td>1995-02-10</td>\n",
       "      <td>...</td>\n",
       "      <td>0.0</td>\n",
       "      <td>0.0</td>\n",
       "      <td>0.0</td>\n",
       "      <td>0.0</td>\n",
       "      <td>0.0</td>\n",
       "      <td>0.0</td>\n",
       "      <td>0.0</td>\n",
       "      <td>0</td>\n",
       "      <td>Sandollar Productions</td>\n",
       "      <td>Touchstone Pictures</td>\n",
       "    </tr>\n",
       "    <tr>\n",
       "      <th>...</th>\n",
       "      <td>...</td>\n",
       "      <td>...</td>\n",
       "      <td>...</td>\n",
       "      <td>...</td>\n",
       "      <td>...</td>\n",
       "      <td>...</td>\n",
       "      <td>...</td>\n",
       "      <td>...</td>\n",
       "      <td>...</td>\n",
       "      <td>...</td>\n",
       "      <td>...</td>\n",
       "      <td>...</td>\n",
       "      <td>...</td>\n",
       "      <td>...</td>\n",
       "      <td>...</td>\n",
       "      <td>...</td>\n",
       "      <td>...</td>\n",
       "      <td>...</td>\n",
       "      <td>...</td>\n",
       "      <td>...</td>\n",
       "      <td>...</td>\n",
       "    </tr>\n",
       "    <tr>\n",
       "      <th>45461</th>\n",
       "      <td>False</td>\n",
       "      <td>0.0</td>\n",
       "      <td>439050</td>\n",
       "      <td>tt6209470</td>\n",
       "      <td>fa</td>\n",
       "      <td>رگ خواب</td>\n",
       "      <td>rising and falling between a man and woman.</td>\n",
       "      <td>0.072051</td>\n",
       "      <td>[{'iso_3166_1': 'IR', 'name': 'Iran'}]</td>\n",
       "      <td>NaN</td>\n",
       "      <td>...</td>\n",
       "      <td>0.0</td>\n",
       "      <td>0.0</td>\n",
       "      <td>0.0</td>\n",
       "      <td>0.0</td>\n",
       "      <td>0.0</td>\n",
       "      <td>0.0</td>\n",
       "      <td>0.0</td>\n",
       "      <td>1</td>\n",
       "      <td>No Producer</td>\n",
       "      <td>No Producer</td>\n",
       "    </tr>\n",
       "    <tr>\n",
       "      <th>45462</th>\n",
       "      <td>False</td>\n",
       "      <td>0.0</td>\n",
       "      <td>111109</td>\n",
       "      <td>tt2028550</td>\n",
       "      <td>tl</td>\n",
       "      <td>siglo ng pagluluwal</td>\n",
       "      <td>an artist struggles to finish his work while a...</td>\n",
       "      <td>0.178241</td>\n",
       "      <td>[{'iso_3166_1': 'PH', 'name': 'Philippines'}]</td>\n",
       "      <td>2011-11-17</td>\n",
       "      <td>...</td>\n",
       "      <td>0.0</td>\n",
       "      <td>0.0</td>\n",
       "      <td>0.0</td>\n",
       "      <td>0.0</td>\n",
       "      <td>0.0</td>\n",
       "      <td>0.0</td>\n",
       "      <td>0.0</td>\n",
       "      <td>0</td>\n",
       "      <td>Sine Olivia</td>\n",
       "      <td>No Producer</td>\n",
       "    </tr>\n",
       "    <tr>\n",
       "      <th>45463</th>\n",
       "      <td>False</td>\n",
       "      <td>0.0</td>\n",
       "      <td>67758</td>\n",
       "      <td>tt0303758</td>\n",
       "      <td>en</td>\n",
       "      <td>betrayal</td>\n",
       "      <td>when one of her hits goes wrong, a professiona...</td>\n",
       "      <td>0.903007</td>\n",
       "      <td>[{'iso_3166_1': 'US', 'name': 'United States o...</td>\n",
       "      <td>2003-08-01</td>\n",
       "      <td>...</td>\n",
       "      <td>NaN</td>\n",
       "      <td>NaN</td>\n",
       "      <td>NaN</td>\n",
       "      <td>NaN</td>\n",
       "      <td>NaN</td>\n",
       "      <td>NaN</td>\n",
       "      <td>NaN</td>\n",
       "      <td>0</td>\n",
       "      <td>American World Pictures</td>\n",
       "      <td>No Producer</td>\n",
       "    </tr>\n",
       "    <tr>\n",
       "      <th>45464</th>\n",
       "      <td>False</td>\n",
       "      <td>0.0</td>\n",
       "      <td>227506</td>\n",
       "      <td>tt0008536</td>\n",
       "      <td>en</td>\n",
       "      <td>satana likuyushchiy</td>\n",
       "      <td>in a small town live two brothers, one a minis...</td>\n",
       "      <td>0.003503</td>\n",
       "      <td>[{'iso_3166_1': 'RU', 'name': 'Russia'}]</td>\n",
       "      <td>1917-10-21</td>\n",
       "      <td>...</td>\n",
       "      <td>NaN</td>\n",
       "      <td>NaN</td>\n",
       "      <td>NaN</td>\n",
       "      <td>NaN</td>\n",
       "      <td>NaN</td>\n",
       "      <td>NaN</td>\n",
       "      <td>NaN</td>\n",
       "      <td>0</td>\n",
       "      <td>Yermoliev</td>\n",
       "      <td>No Producer</td>\n",
       "    </tr>\n",
       "    <tr>\n",
       "      <th>45465</th>\n",
       "      <td>False</td>\n",
       "      <td>0.0</td>\n",
       "      <td>461257</td>\n",
       "      <td>tt6980792</td>\n",
       "      <td>en</td>\n",
       "      <td>queerama</td>\n",
       "      <td>50 years after decriminalisation of homosexual...</td>\n",
       "      <td>0.163015</td>\n",
       "      <td>[{'iso_3166_1': 'GB', 'name': 'United Kingdom'}]</td>\n",
       "      <td>2017-06-09</td>\n",
       "      <td>...</td>\n",
       "      <td>NaN</td>\n",
       "      <td>NaN</td>\n",
       "      <td>NaN</td>\n",
       "      <td>NaN</td>\n",
       "      <td>NaN</td>\n",
       "      <td>NaN</td>\n",
       "      <td>NaN</td>\n",
       "      <td>0</td>\n",
       "      <td>No Producer</td>\n",
       "      <td>No Producer</td>\n",
       "    </tr>\n",
       "  </tbody>\n",
       "</table>\n",
       "<p>45414 rows × 42 columns</p>\n",
       "</div>"
      ],
      "text/plain": [
       "       adult      budget      id    imdb_id original_language  \\\n",
       "0      False  30000000.0     862  tt0114709                en   \n",
       "1      False  65000000.0    8844  tt0113497                en   \n",
       "2      False         0.0   15602  tt0113228                en   \n",
       "3      False  16000000.0   31357  tt0114885                en   \n",
       "4      False         0.0   11862  tt0113041                en   \n",
       "...      ...         ...     ...        ...               ...   \n",
       "45461  False         0.0  439050  tt6209470                fa   \n",
       "45462  False         0.0  111109  tt2028550                tl   \n",
       "45463  False         0.0   67758  tt0303758                en   \n",
       "45464  False         0.0  227506  tt0008536                en   \n",
       "45465  False         0.0  461257  tt6980792                en   \n",
       "\n",
       "                    original_title  \\\n",
       "0                        toy story   \n",
       "1                          jumanji   \n",
       "2                 grumpier old men   \n",
       "3                waiting to exhale   \n",
       "4      father of the bride part ii   \n",
       "...                            ...   \n",
       "45461                      رگ خواب   \n",
       "45462          siglo ng pagluluwal   \n",
       "45463                     betrayal   \n",
       "45464          satana likuyushchiy   \n",
       "45465                     queerama   \n",
       "\n",
       "                                                overview  popularity  \\\n",
       "0      led by woody, andy's toys live happily in his ...    8.620000   \n",
       "1      when siblings judy and peter discover an encha...    8.620000   \n",
       "2      a family wedding reignites the ancient feud be...    8.620000   \n",
       "3      cheated on, mistreated and stepped on, the wom...    3.859495   \n",
       "4      just when george banks has recovered from his ...    8.387519   \n",
       "...                                                  ...         ...   \n",
       "45461        rising and falling between a man and woman.    0.072051   \n",
       "45462  an artist struggles to finish his work while a...    0.178241   \n",
       "45463  when one of her hits goes wrong, a professiona...    0.903007   \n",
       "45464  in a small town live two brothers, one a minis...    0.003503   \n",
       "45465  50 years after decriminalisation of homosexual...    0.163015   \n",
       "\n",
       "                                    production_countries release_date  ...  \\\n",
       "0      [{'iso_3166_1': 'US', 'name': 'United States o...   1995-10-30  ...   \n",
       "1      [{'iso_3166_1': 'US', 'name': 'United States o...   1995-12-15  ...   \n",
       "2      [{'iso_3166_1': 'US', 'name': 'United States o...   1995-12-22  ...   \n",
       "3      [{'iso_3166_1': 'US', 'name': 'United States o...   1995-12-22  ...   \n",
       "4      [{'iso_3166_1': 'US', 'name': 'United States o...   1995-02-10  ...   \n",
       "...                                                  ...          ...  ...   \n",
       "45461             [{'iso_3166_1': 'IR', 'name': 'Iran'}]          NaN  ...   \n",
       "45462      [{'iso_3166_1': 'PH', 'name': 'Philippines'}]   2011-11-17  ...   \n",
       "45463  [{'iso_3166_1': 'US', 'name': 'United States o...   2003-08-01  ...   \n",
       "45464           [{'iso_3166_1': 'RU', 'name': 'Russia'}]   1917-10-21  ...   \n",
       "45465   [{'iso_3166_1': 'GB', 'name': 'United Kingdom'}]   2017-06-09  ...   \n",
       "\n",
       "       History  Western Fantasy Documentary Action Music  War  \\\n",
       "0          0.0      0.0     0.0         0.0    0.0   0.0  0.0   \n",
       "1          0.0      0.0     1.0         0.0    0.0   0.0  0.0   \n",
       "2          0.0      0.0     0.0         0.0    0.0   0.0  0.0   \n",
       "3          0.0      0.0     0.0         0.0    0.0   0.0  0.0   \n",
       "4          0.0      0.0     0.0         0.0    0.0   0.0  0.0   \n",
       "...        ...      ...     ...         ...    ...   ...  ...   \n",
       "45461      0.0      0.0     0.0         0.0    0.0   0.0  0.0   \n",
       "45462      0.0      0.0     0.0         0.0    0.0   0.0  0.0   \n",
       "45463      NaN      NaN     NaN         NaN    NaN   NaN  NaN   \n",
       "45464      NaN      NaN     NaN         NaN    NaN   NaN  NaN   \n",
       "45465      NaN      NaN     NaN         NaN    NaN   NaN  NaN   \n",
       "\n",
       "       homepagepresent                               Producer1  \\\n",
       "0                    1                 Pixar Animation Studios   \n",
       "1                    0                        TriStar Pictures   \n",
       "2                    0                            Warner Bros.   \n",
       "3                    0  Twentieth Century Fox Film Corporation   \n",
       "4                    0                   Sandollar Productions   \n",
       "...                ...                                     ...   \n",
       "45461                1                             No Producer   \n",
       "45462                0                             Sine Olivia   \n",
       "45463                0                 American World Pictures   \n",
       "45464                0                               Yermoliev   \n",
       "45465                0                             No Producer   \n",
       "\n",
       "                 Producer2  \n",
       "0              No Producer  \n",
       "1             Teitler Film  \n",
       "2           Lancaster Gate  \n",
       "3              No Producer  \n",
       "4      Touchstone Pictures  \n",
       "...                    ...  \n",
       "45461          No Producer  \n",
       "45462          No Producer  \n",
       "45463          No Producer  \n",
       "45464          No Producer  \n",
       "45465          No Producer  \n",
       "\n",
       "[45414 rows x 42 columns]"
      ]
     },
     "execution_count": 173,
     "metadata": {},
     "output_type": "execute_result"
    }
   ],
   "source": [
    "df"
   ]
  },
  {
   "cell_type": "code",
   "execution_count": 175,
   "id": "2a132b19",
   "metadata": {},
   "outputs": [
    {
     "data": {
      "text/plain": [
       "'1995-10-30'"
      ]
     },
     "execution_count": 175,
     "metadata": {},
     "output_type": "execute_result"
    }
   ],
   "source": [
    "df.release_date.values[0]"
   ]
  },
  {
   "cell_type": "code",
   "execution_count": 176,
   "id": "8588b34d",
   "metadata": {},
   "outputs": [
    {
     "data": {
      "text/plain": [
       "81"
      ]
     },
     "execution_count": 176,
     "metadata": {},
     "output_type": "execute_result"
    }
   ],
   "source": [
    "df.release_date.isnull().sum()"
   ]
  },
  {
   "cell_type": "code",
   "execution_count": 177,
   "id": "c897659e",
   "metadata": {},
   "outputs": [],
   "source": [
    "df=df.dropna(subset = ['release_date'])"
   ]
  },
  {
   "cell_type": "code",
   "execution_count": 178,
   "id": "ba9e43cc",
   "metadata": {},
   "outputs": [
    {
     "data": {
      "text/plain": [
       "0"
      ]
     },
     "execution_count": 178,
     "metadata": {},
     "output_type": "execute_result"
    }
   ],
   "source": [
    "df.release_date.isnull().sum()"
   ]
  },
  {
   "cell_type": "code",
   "execution_count": 179,
   "id": "bbada1ba",
   "metadata": {},
   "outputs": [
    {
     "name": "stderr",
     "output_type": "stream",
     "text": [
      "C:\\Users\\NP Family\\AppData\\Local\\Temp\\ipykernel_1428\\363293121.py:2: SettingWithCopyWarning: \n",
      "A value is trying to be set on a copy of a slice from a DataFrame.\n",
      "Try using .loc[row_indexer,col_indexer] = value instead\n",
      "\n",
      "See the caveats in the documentation: https://pandas.pydata.org/pandas-docs/stable/user_guide/indexing.html#returning-a-view-versus-a-copy\n",
      "  df.release_date = pd.to_datetime(df.release_date, format='%Y-%m-%d')\n"
     ]
    }
   ],
   "source": [
    "import datetime\n",
    "df.release_date = pd.to_datetime(df.release_date, format='%Y-%m-%d')"
   ]
  },
  {
   "cell_type": "code",
   "execution_count": 181,
   "id": "082896de",
   "metadata": {},
   "outputs": [
    {
     "data": {
      "text/plain": [
       "0        1995\n",
       "1        1995\n",
       "2        1995\n",
       "3        1995\n",
       "4        1995\n",
       "         ... \n",
       "45460    1991\n",
       "45462    2011\n",
       "45463    2003\n",
       "45464    1917\n",
       "45465    2017\n",
       "Name: release_date, Length: 45333, dtype: int64"
      ]
     },
     "execution_count": 181,
     "metadata": {},
     "output_type": "execute_result"
    }
   ],
   "source": [
    "df.release_date.dt.year"
   ]
  },
  {
   "cell_type": "code",
   "execution_count": 182,
   "id": "a8bede65",
   "metadata": {},
   "outputs": [
    {
     "data": {
      "text/plain": [
       "373554033.0"
      ]
     },
     "execution_count": 182,
     "metadata": {},
     "output_type": "execute_result"
    }
   ],
   "source": [
    "df.revenue.values[0]"
   ]
  },
  {
   "cell_type": "code",
   "execution_count": 183,
   "id": "4c6945a7",
   "metadata": {},
   "outputs": [
    {
     "name": "stderr",
     "output_type": "stream",
     "text": [
      "C:\\Users\\NP Family\\AppData\\Local\\Temp\\ipykernel_1428\\4005313995.py:1: SettingWithCopyWarning: \n",
      "A value is trying to be set on a copy of a slice from a DataFrame.\n",
      "Try using .loc[row_indexer,col_indexer] = value instead\n",
      "\n",
      "See the caveats in the documentation: https://pandas.pydata.org/pandas-docs/stable/user_guide/indexing.html#returning-a-view-versus-a-copy\n",
      "  df.revenue = df.revenue.astype('int64')\n"
     ]
    }
   ],
   "source": [
    "df.revenue = df.revenue.astype('int64')"
   ]
  },
  {
   "cell_type": "code",
   "execution_count": 184,
   "id": "d60d5c55",
   "metadata": {},
   "outputs": [
    {
     "data": {
      "text/plain": [
       "count    4.533300e+04\n",
       "mean     1.123688e+07\n",
       "std      6.441885e+07\n",
       "min      0.000000e+00\n",
       "25%      0.000000e+00\n",
       "50%      0.000000e+00\n",
       "75%      0.000000e+00\n",
       "max      2.787965e+09\n",
       "Name: revenue, dtype: float64"
      ]
     },
     "execution_count": 184,
     "metadata": {},
     "output_type": "execute_result"
    }
   ],
   "source": [
    "df.revenue.describe()"
   ]
  },
  {
   "cell_type": "code",
   "execution_count": 185,
   "id": "08e400da",
   "metadata": {},
   "outputs": [
    {
     "data": {
      "text/plain": [
       "83.68296825711954"
      ]
     },
     "execution_count": 185,
     "metadata": {},
     "output_type": "execute_result"
    }
   ],
   "source": [
    "sum(df.revenue == 0)*100/df.shape[0] #here 83%revenue of movies are zero "
   ]
  },
  {
   "cell_type": "code",
   "execution_count": 186,
   "id": "b6a11b17",
   "metadata": {},
   "outputs": [
    {
     "data": {
      "text/plain": [
       "81.0"
      ]
     },
     "execution_count": 186,
     "metadata": {},
     "output_type": "execute_result"
    }
   ],
   "source": [
    "df.runtime.values[0]"
   ]
  },
  {
   "cell_type": "code",
   "execution_count": 187,
   "id": "e41db989",
   "metadata": {},
   "outputs": [
    {
     "data": {
      "text/plain": [
       "count    45089.000000\n",
       "mean        94.184014\n",
       "std         38.342419\n",
       "min          0.000000\n",
       "25%         85.000000\n",
       "50%         95.000000\n",
       "75%        107.000000\n",
       "max       1256.000000\n",
       "Name: runtime, dtype: float64"
      ]
     },
     "execution_count": 187,
     "metadata": {},
     "output_type": "execute_result"
    }
   ],
   "source": [
    "df.runtime.describe()"
   ]
  },
  {
   "cell_type": "code",
   "execution_count": 190,
   "id": "51dfbd19",
   "metadata": {},
   "outputs": [
    {
     "data": {
      "text/plain": [
       "1532"
      ]
     },
     "execution_count": 190,
     "metadata": {},
     "output_type": "execute_result"
    }
   ],
   "source": [
    "sum(df.runtime ==0)"
   ]
  },
  {
   "cell_type": "code",
   "execution_count": 191,
   "id": "b6e719d4",
   "metadata": {},
   "outputs": [],
   "source": [
    "df.loc[df.runtime ==0,'runtime']=95"
   ]
  },
  {
   "cell_type": "code",
   "execution_count": 192,
   "id": "6dcf4dba",
   "metadata": {},
   "outputs": [
    {
     "data": {
      "text/plain": [
       "244"
      ]
     },
     "execution_count": 192,
     "metadata": {},
     "output_type": "execute_result"
    }
   ],
   "source": [
    "df.runtime.isnull().sum()"
   ]
  },
  {
   "cell_type": "code",
   "execution_count": 194,
   "id": "c81eedc0",
   "metadata": {},
   "outputs": [],
   "source": [
    "df=df.loc[df.runtime <= 240,:]"
   ]
  },
  {
   "cell_type": "code",
   "execution_count": 195,
   "id": "096a497f",
   "metadata": {},
   "outputs": [
    {
     "data": {
      "text/plain": [
       "0"
      ]
     },
     "execution_count": 195,
     "metadata": {},
     "output_type": "execute_result"
    }
   ],
   "source": [
    "df.runtime.isnull().sum()"
   ]
  },
  {
   "cell_type": "code",
   "execution_count": 196,
   "id": "d0d4a3d4",
   "metadata": {},
   "outputs": [
    {
     "data": {
      "text/plain": [
       "\"[{'iso_639_1': 'en', 'name': 'English'}]\""
      ]
     },
     "execution_count": 196,
     "metadata": {},
     "output_type": "execute_result"
    }
   ],
   "source": [
    "df.spoken_languages.values[0]"
   ]
  },
  {
   "cell_type": "code",
   "execution_count": 198,
   "id": "ac6cd9b3",
   "metadata": {},
   "outputs": [],
   "source": [
    "totalLanguages = []\n",
    "for a in df.spoken_languages.values: # looping through all the rows\n",
    "  prodList = ast.literal_eval(a) #converting from string to list of dictionary \n",
    "  totalLanguages.append(len(prodList)) #how many languages spoken?\n",
    "\n",
    "df['TotalLanguages'] = totalLanguages"
   ]
  },
  {
   "cell_type": "code",
   "execution_count": 199,
   "id": "9e75b6b2",
   "metadata": {},
   "outputs": [],
   "source": [
    "df=df.drop(columns = ['spoken_languages'])"
   ]
  },
  {
   "cell_type": "code",
   "execution_count": 201,
   "id": "33e1ae79",
   "metadata": {},
   "outputs": [
    {
     "data": {
      "text/plain": [
       "'Released'"
      ]
     },
     "execution_count": 201,
     "metadata": {},
     "output_type": "execute_result"
    }
   ],
   "source": [
    "df.status.values[0]"
   ]
  },
  {
   "cell_type": "code",
   "execution_count": 202,
   "id": "83756c95",
   "metadata": {},
   "outputs": [
    {
     "data": {
      "text/plain": [
       "Released           44464\n",
       "Rumored              227\n",
       "Post Production       97\n",
       "In Production         17\n",
       "Planned               13\n",
       "Canceled               1\n",
       "Name: status, dtype: int64"
      ]
     },
     "execution_count": 202,
     "metadata": {},
     "output_type": "execute_result"
    }
   ],
   "source": [
    "df.status.value_counts()"
   ]
  },
  {
   "cell_type": "code",
   "execution_count": 203,
   "id": "f18fd92a",
   "metadata": {},
   "outputs": [],
   "source": [
    "df.status = df.status.fillna('Released')"
   ]
  },
  {
   "cell_type": "code",
   "execution_count": 204,
   "id": "2a3dcb8a",
   "metadata": {},
   "outputs": [
    {
     "data": {
      "text/plain": [
       "Released           44540\n",
       "Rumored              227\n",
       "Post Production       97\n",
       "In Production         17\n",
       "Planned               13\n",
       "Canceled               1\n",
       "Name: status, dtype: int64"
      ]
     },
     "execution_count": 204,
     "metadata": {},
     "output_type": "execute_result"
    }
   ],
   "source": [
    "df.status.value_counts()"
   ]
  },
  {
   "cell_type": "code",
   "execution_count": 205,
   "id": "9704e73c",
   "metadata": {},
   "outputs": [
    {
     "data": {
      "text/plain": [
       "0"
      ]
     },
     "execution_count": 205,
     "metadata": {},
     "output_type": "execute_result"
    }
   ],
   "source": [
    "df.status.isnull().sum()"
   ]
  },
  {
   "cell_type": "code",
   "execution_count": 206,
   "id": "84533404",
   "metadata": {},
   "outputs": [],
   "source": [
    "df = df.drop(columns = ['tagline','video'])"
   ]
  },
  {
   "cell_type": "code",
   "execution_count": 207,
   "id": "99f924c2",
   "metadata": {},
   "outputs": [],
   "source": [
    "df=df.dropna()"
   ]
  },
  {
   "cell_type": "code",
   "execution_count": 209,
   "id": "d2a46899",
   "metadata": {},
   "outputs": [
    {
     "data": {
      "text/plain": [
       "(44891, 40)"
      ]
     },
     "execution_count": 209,
     "metadata": {},
     "output_type": "execute_result"
    }
   ],
   "source": [
    "df.shape"
   ]
  },
  {
   "cell_type": "code",
   "execution_count": null,
   "id": "7b9b79e4",
   "metadata": {},
   "outputs": [],
   "source": []
  }
 ],
 "metadata": {
  "kernelspec": {
   "display_name": "Python 3 (ipykernel)",
   "language": "python",
   "name": "python3"
  },
  "language_info": {
   "codemirror_mode": {
    "name": "ipython",
    "version": 3
   },
   "file_extension": ".py",
   "mimetype": "text/x-python",
   "name": "python",
   "nbconvert_exporter": "python",
   "pygments_lexer": "ipython3",
   "version": "3.9.13"
  }
 },
 "nbformat": 4,
 "nbformat_minor": 5
}
